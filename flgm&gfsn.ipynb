{
  "nbformat": 4,
  "nbformat_minor": 0,
  "metadata": {
    "colab": {
      "provenance": [],
      "include_colab_link": true
    },
    "kernelspec": {
      "name": "python3",
      "display_name": "Python 3"
    },
    "language_info": {
      "name": "python"
    }
  },
  "cells": [
    {
      "cell_type": "markdown",
      "metadata": {
        "id": "view-in-github",
        "colab_type": "text"
      },
      "source": [
        "<a href=\"https://colab.research.google.com/github/Nand0000000000/WorldCup-Data-analisys/blob/main/flgm%26gfsn.ipynb\" target=\"_parent\"><img src=\"https://colab.research.google.com/assets/colab-badge.svg\" alt=\"Open In Colab\"/></a>"
      ]
    },
    {
      "cell_type": "code",
      "execution_count": null,
      "metadata": {
        "id": "2FRsqv6Yerm9"
      },
      "outputs": [],
      "source": [
        "import pandas as pd\n",
        "import numpy as np"
      ]
    },
    {
      "cell_type": "code",
      "source": [
        "from google.colab import drive #importando o drive"
      ],
      "metadata": {
        "id": "C8506P2utyAp"
      },
      "execution_count": null,
      "outputs": []
    },
    {
      "cell_type": "code",
      "source": [
        "drive.mount('/content/gdrive')"
      ],
      "metadata": {
        "colab": {
          "base_uri": "https://localhost:8080/",
          "height": 174
        },
        "id": "1zOeKm_vt1CQ",
        "outputId": "a0b0fff9-2a27-4c60-a124-3741347fade0"
      },
      "execution_count": null,
      "outputs": [
        {
          "output_type": "error",
          "ename": "NameError",
          "evalue": "ignored",
          "traceback": [
            "\u001b[0;31m---------------------------------------------------------------------------\u001b[0m",
            "\u001b[0;31mNameError\u001b[0m                                 Traceback (most recent call last)",
            "\u001b[0;32m<ipython-input-3-837f90cc644e>\u001b[0m in \u001b[0;36m<cell line: 1>\u001b[0;34m()\u001b[0m\n\u001b[0;32m----> 1\u001b[0;31m \u001b[0mdrive\u001b[0m\u001b[0;34m.\u001b[0m\u001b[0mmount\u001b[0m\u001b[0;34m(\u001b[0m\u001b[0;34m'/content/gdrive'\u001b[0m\u001b[0;34m)\u001b[0m\u001b[0;34m\u001b[0m\u001b[0;34m\u001b[0m\u001b[0m\n\u001b[0m",
            "\u001b[0;31mNameError\u001b[0m: name 'drive' is not defined"
          ]
        }
      ]
    },
    {
      "cell_type": "code",
      "source": [
        "from google.colab import files #comando para importar arquivos no colab\n",
        "uploaded = files.upload() #comando para fazer o upload do arquivo"
      ],
      "metadata": {
        "colab": {
          "base_uri": "https://localhost:8080/",
          "height": 73
        },
        "id": "QZVfqYCzuEin",
        "outputId": "b48b9e43-56ff-40b6-b443-6161994c263f"
      },
      "execution_count": null,
      "outputs": [
        {
          "output_type": "display_data",
          "data": {
            "text/plain": [
              "<IPython.core.display.HTML object>"
            ],
            "text/html": [
              "\n",
              "     <input type=\"file\" id=\"files-3522151b-605d-4670-b1db-34611dff1a72\" name=\"files[]\" multiple disabled\n",
              "        style=\"border:none\" />\n",
              "     <output id=\"result-3522151b-605d-4670-b1db-34611dff1a72\">\n",
              "      Upload widget is only available when the cell has been executed in the\n",
              "      current browser session. Please rerun this cell to enable.\n",
              "      </output>\n",
              "      <script>// Copyright 2017 Google LLC\n",
              "//\n",
              "// Licensed under the Apache License, Version 2.0 (the \"License\");\n",
              "// you may not use this file except in compliance with the License.\n",
              "// You may obtain a copy of the License at\n",
              "//\n",
              "//      http://www.apache.org/licenses/LICENSE-2.0\n",
              "//\n",
              "// Unless required by applicable law or agreed to in writing, software\n",
              "// distributed under the License is distributed on an \"AS IS\" BASIS,\n",
              "// WITHOUT WARRANTIES OR CONDITIONS OF ANY KIND, either express or implied.\n",
              "// See the License for the specific language governing permissions and\n",
              "// limitations under the License.\n",
              "\n",
              "/**\n",
              " * @fileoverview Helpers for google.colab Python module.\n",
              " */\n",
              "(function(scope) {\n",
              "function span(text, styleAttributes = {}) {\n",
              "  const element = document.createElement('span');\n",
              "  element.textContent = text;\n",
              "  for (const key of Object.keys(styleAttributes)) {\n",
              "    element.style[key] = styleAttributes[key];\n",
              "  }\n",
              "  return element;\n",
              "}\n",
              "\n",
              "// Max number of bytes which will be uploaded at a time.\n",
              "const MAX_PAYLOAD_SIZE = 100 * 1024;\n",
              "\n",
              "function _uploadFiles(inputId, outputId) {\n",
              "  const steps = uploadFilesStep(inputId, outputId);\n",
              "  const outputElement = document.getElementById(outputId);\n",
              "  // Cache steps on the outputElement to make it available for the next call\n",
              "  // to uploadFilesContinue from Python.\n",
              "  outputElement.steps = steps;\n",
              "\n",
              "  return _uploadFilesContinue(outputId);\n",
              "}\n",
              "\n",
              "// This is roughly an async generator (not supported in the browser yet),\n",
              "// where there are multiple asynchronous steps and the Python side is going\n",
              "// to poll for completion of each step.\n",
              "// This uses a Promise to block the python side on completion of each step,\n",
              "// then passes the result of the previous step as the input to the next step.\n",
              "function _uploadFilesContinue(outputId) {\n",
              "  const outputElement = document.getElementById(outputId);\n",
              "  const steps = outputElement.steps;\n",
              "\n",
              "  const next = steps.next(outputElement.lastPromiseValue);\n",
              "  return Promise.resolve(next.value.promise).then((value) => {\n",
              "    // Cache the last promise value to make it available to the next\n",
              "    // step of the generator.\n",
              "    outputElement.lastPromiseValue = value;\n",
              "    return next.value.response;\n",
              "  });\n",
              "}\n",
              "\n",
              "/**\n",
              " * Generator function which is called between each async step of the upload\n",
              " * process.\n",
              " * @param {string} inputId Element ID of the input file picker element.\n",
              " * @param {string} outputId Element ID of the output display.\n",
              " * @return {!Iterable<!Object>} Iterable of next steps.\n",
              " */\n",
              "function* uploadFilesStep(inputId, outputId) {\n",
              "  const inputElement = document.getElementById(inputId);\n",
              "  inputElement.disabled = false;\n",
              "\n",
              "  const outputElement = document.getElementById(outputId);\n",
              "  outputElement.innerHTML = '';\n",
              "\n",
              "  const pickedPromise = new Promise((resolve) => {\n",
              "    inputElement.addEventListener('change', (e) => {\n",
              "      resolve(e.target.files);\n",
              "    });\n",
              "  });\n",
              "\n",
              "  const cancel = document.createElement('button');\n",
              "  inputElement.parentElement.appendChild(cancel);\n",
              "  cancel.textContent = 'Cancel upload';\n",
              "  const cancelPromise = new Promise((resolve) => {\n",
              "    cancel.onclick = () => {\n",
              "      resolve(null);\n",
              "    };\n",
              "  });\n",
              "\n",
              "  // Wait for the user to pick the files.\n",
              "  const files = yield {\n",
              "    promise: Promise.race([pickedPromise, cancelPromise]),\n",
              "    response: {\n",
              "      action: 'starting',\n",
              "    }\n",
              "  };\n",
              "\n",
              "  cancel.remove();\n",
              "\n",
              "  // Disable the input element since further picks are not allowed.\n",
              "  inputElement.disabled = true;\n",
              "\n",
              "  if (!files) {\n",
              "    return {\n",
              "      response: {\n",
              "        action: 'complete',\n",
              "      }\n",
              "    };\n",
              "  }\n",
              "\n",
              "  for (const file of files) {\n",
              "    const li = document.createElement('li');\n",
              "    li.append(span(file.name, {fontWeight: 'bold'}));\n",
              "    li.append(span(\n",
              "        `(${file.type || 'n/a'}) - ${file.size} bytes, ` +\n",
              "        `last modified: ${\n",
              "            file.lastModifiedDate ? file.lastModifiedDate.toLocaleDateString() :\n",
              "                                    'n/a'} - `));\n",
              "    const percent = span('0% done');\n",
              "    li.appendChild(percent);\n",
              "\n",
              "    outputElement.appendChild(li);\n",
              "\n",
              "    const fileDataPromise = new Promise((resolve) => {\n",
              "      const reader = new FileReader();\n",
              "      reader.onload = (e) => {\n",
              "        resolve(e.target.result);\n",
              "      };\n",
              "      reader.readAsArrayBuffer(file);\n",
              "    });\n",
              "    // Wait for the data to be ready.\n",
              "    let fileData = yield {\n",
              "      promise: fileDataPromise,\n",
              "      response: {\n",
              "        action: 'continue',\n",
              "      }\n",
              "    };\n",
              "\n",
              "    // Use a chunked sending to avoid message size limits. See b/62115660.\n",
              "    let position = 0;\n",
              "    do {\n",
              "      const length = Math.min(fileData.byteLength - position, MAX_PAYLOAD_SIZE);\n",
              "      const chunk = new Uint8Array(fileData, position, length);\n",
              "      position += length;\n",
              "\n",
              "      const base64 = btoa(String.fromCharCode.apply(null, chunk));\n",
              "      yield {\n",
              "        response: {\n",
              "          action: 'append',\n",
              "          file: file.name,\n",
              "          data: base64,\n",
              "        },\n",
              "      };\n",
              "\n",
              "      let percentDone = fileData.byteLength === 0 ?\n",
              "          100 :\n",
              "          Math.round((position / fileData.byteLength) * 100);\n",
              "      percent.textContent = `${percentDone}% done`;\n",
              "\n",
              "    } while (position < fileData.byteLength);\n",
              "  }\n",
              "\n",
              "  // All done.\n",
              "  yield {\n",
              "    response: {\n",
              "      action: 'complete',\n",
              "    }\n",
              "  };\n",
              "}\n",
              "\n",
              "scope.google = scope.google || {};\n",
              "scope.google.colab = scope.google.colab || {};\n",
              "scope.google.colab._files = {\n",
              "  _uploadFiles,\n",
              "  _uploadFilesContinue,\n",
              "};\n",
              "})(self);\n",
              "</script> "
            ]
          },
          "metadata": {}
        },
        {
          "output_type": "stream",
          "name": "stdout",
          "text": [
            "Saving team_data.csv to team_data.csv\n"
          ]
        }
      ]
    },
    {
      "cell_type": "code",
      "source": [
        "times = pd.read_csv('team_data.csv')"
      ],
      "metadata": {
        "id": "ZSxkiEHJf3Cu"
      },
      "execution_count": null,
      "outputs": []
    },
    {
      "cell_type": "code",
      "source": [
        "leitura = pd.read_csv('team_data.csv') #realiza a leitura do arquivo importado\n",
        "leitura.head(32)"
      ],
      "metadata": {
        "colab": {
          "base_uri": "https://localhost:8080/",
          "height": 1000
        },
        "id": "oT9ph_Ragw-K",
        "outputId": "5b320c22-ef40-44b6-98a4-8113f4569bad"
      },
      "execution_count": null,
      "outputs": [
        {
          "output_type": "execute_result",
          "data": {
            "text/plain": [
              "              team  players_used  avg_age  possession  games  games_starts  \\\n",
              "0        Argentina            24     28.4        57.4      7            77   \n",
              "1        Australia            20     28.7        37.8      4            44   \n",
              "2          Belgium            20     30.6        57.0      3            33   \n",
              "3           Brazil            26     28.5        56.2      5            55   \n",
              "4         Cameroon            22     28.0        41.7      3            33   \n",
              "5           Canada            19     28.2        52.0      3            33   \n",
              "6       Costa Rica            22     30.6        31.3      3            33   \n",
              "7          Croatia            21     29.2        54.3      7            77   \n",
              "8          Denmark            20     27.5        60.0      3            33   \n",
              "9          Ecuador            18     25.8        53.3      3            33   \n",
              "10         England            20     27.0        62.8      5            55   \n",
              "11          France            24     27.2        51.3      7            77   \n",
              "12         Germany            20     28.1        59.3      3            33   \n",
              "13           Ghana            20     26.4        42.0      3            33   \n",
              "14            Iran            21     29.3        36.7      3            33   \n",
              "15           Japan            22     28.8        35.8      4            44   \n",
              "16  Korea Republic            21     29.0        48.3      4            44   \n",
              "17          Mexico            21     29.0        54.0      3            33   \n",
              "18         Morocco            25     27.2        39.0      7            77   \n",
              "19     Netherlands            21     27.6        53.0      5            55   \n",
              "20          Poland            21     28.7        37.3      4            44   \n",
              "21        Portugal            24     27.8        60.4      5            55   \n",
              "22           Qatar            20     29.0        43.0      3            33   \n",
              "23    Saudi Arabia            23     28.1        44.7      3            33   \n",
              "24         Senegal            20     27.7        44.8      4            44   \n",
              "25          Serbia            22     27.4        51.3      3            33   \n",
              "26           Spain            21     26.4        75.8      4            44   \n",
              "27     Switzerland            24     28.5        49.0      4            44   \n",
              "28         Tunisia            21     27.7        44.3      3            33   \n",
              "29   United States            20     25.4        53.0      4            44   \n",
              "30         Uruguay            19     28.5        48.7      3            33   \n",
              "31           Wales            18     27.7        46.7      3            33   \n",
              "\n",
              "    minutes  minutes_90s  goals  assists  ...  fouls  fouled  offsides  \\\n",
              "0       690          7.7     15        8  ...    100     115        23   \n",
              "1       360          4.0      3        3  ...     52      34         1   \n",
              "2       270          3.0      1        1  ...     30      35         3   \n",
              "3       480          5.3      8        6  ...     63      74         8   \n",
              "4       270          3.0      4        4  ...     32      38         2   \n",
              "5       270          3.0      1        1  ...     33      37         8   \n",
              "6       270          3.0      3        1  ...     24      37        13   \n",
              "7       690          7.7      8        8  ...     90      90        11   \n",
              "8       270          3.0      1        1  ...     28      23         5   \n",
              "9       270          3.0      4        2  ...     50      37         8   \n",
              "10      450          5.0     13       11  ...     53      65         5   \n",
              "11      660          7.3     16       12  ...     69      85        16   \n",
              "12      270          3.0      6        5  ...     26      27        12   \n",
              "13      270          3.0      5        2  ...     46      38         4   \n",
              "14      270          3.0      4        2  ...     38      26         6   \n",
              "15      390          4.3      5        4  ...     58      36         9   \n",
              "16      360          4.0      5        3  ...     45      34         7   \n",
              "17      270          3.0      2        1  ...     51      48        13   \n",
              "18      660          7.3      6        4  ...     96      81        19   \n",
              "19      480          5.3     10        8  ...     87      50         8   \n",
              "20      360          4.0      3        1  ...     47      47         1   \n",
              "21      450          5.0     12       10  ...     55      65        14   \n",
              "22      270          3.0      1        1  ...     31      45         7   \n",
              "23      270          3.0      3        2  ...     56      38         3   \n",
              "24      360          4.0      5        2  ...     48      57         8   \n",
              "25      270          3.0      5        4  ...     43      28         4   \n",
              "26      390          4.3      9        5  ...     41      46        11   \n",
              "27      360          4.0      5        4  ...     53      49         6   \n",
              "28      270          3.0      1        1  ...     40      28         7   \n",
              "29      360          4.0      3        3  ...     45      40         5   \n",
              "30      270          3.0      2        1  ...     34      36         3   \n",
              "31      270          3.0      1        0  ...     35      33         4   \n",
              "\n",
              "    pens_won  pens_conceded  own_goals  ball_recoveries  aerials_won  \\\n",
              "0          5              2          1              357           83   \n",
              "1          0              0          0              200           72   \n",
              "2          0              1          0              132           33   \n",
              "3          1              0          0              271           43   \n",
              "4          0              0          0              142           42   \n",
              "5          0              0          0              145           30   \n",
              "6          0              1          0              142           38   \n",
              "7          0              1          0              409           87   \n",
              "8          0              0          0              171           51   \n",
              "9          1              1          0              135           50   \n",
              "10         2              1          0              227           60   \n",
              "11         1              4          0              364          106   \n",
              "12         1              0          0              164           36   \n",
              "13         1              1          0              146           36   \n",
              "14         1              0          0              178           43   \n",
              "15         0              1          0              220           59   \n",
              "16         0              1          0              175           72   \n",
              "17         0              1          0              151           48   \n",
              "18         0              0          1              369           70   \n",
              "19         0              1          0              241           79   \n",
              "20         1              2          0              164           51   \n",
              "21         1              0          0              256           66   \n",
              "22         0              1          0              138           36   \n",
              "23         1              1          0              132           45   \n",
              "24         1              0          0              192           72   \n",
              "25         0              0          0              161           43   \n",
              "26         1              0          0              225           41   \n",
              "27         0              0          0              190           45   \n",
              "28         0              0          0              170           48   \n",
              "29         0              1          0              212           53   \n",
              "30         0              2          0              166           53   \n",
              "31         1              0          0              147           42   \n",
              "\n",
              "    aerials_lost  aerials_won_pct  \n",
              "0             90             48.0  \n",
              "1             72             50.0  \n",
              "2             28             54.1  \n",
              "3             56             43.4  \n",
              "4             36             53.8  \n",
              "5             21             58.8  \n",
              "6             30             55.9  \n",
              "7             87             50.0  \n",
              "8             48             51.5  \n",
              "9             49             50.5  \n",
              "10            66             47.6  \n",
              "11            78             57.6  \n",
              "12            33             52.2  \n",
              "13            62             36.7  \n",
              "14            49             46.7  \n",
              "15            76             43.7  \n",
              "16            59             55.0  \n",
              "17            51             48.5  \n",
              "18            85             45.2  \n",
              "19            70             53.0  \n",
              "20            60             45.9  \n",
              "21            53             55.5  \n",
              "22            38             48.6  \n",
              "23            49             47.9  \n",
              "24            63             53.3  \n",
              "25            38             53.1  \n",
              "26            39             51.3  \n",
              "27            49             47.9  \n",
              "28            57             45.7  \n",
              "29            53             50.0  \n",
              "30            47             53.0  \n",
              "31            41             50.6  \n",
              "\n",
              "[32 rows x 189 columns]"
            ],
            "text/html": [
              "\n",
              "  <div id=\"df-c9053272-88c5-48cc-95b9-6b69b2be7cf2\" class=\"colab-df-container\">\n",
              "    <div>\n",
              "<style scoped>\n",
              "    .dataframe tbody tr th:only-of-type {\n",
              "        vertical-align: middle;\n",
              "    }\n",
              "\n",
              "    .dataframe tbody tr th {\n",
              "        vertical-align: top;\n",
              "    }\n",
              "\n",
              "    .dataframe thead th {\n",
              "        text-align: right;\n",
              "    }\n",
              "</style>\n",
              "<table border=\"1\" class=\"dataframe\">\n",
              "  <thead>\n",
              "    <tr style=\"text-align: right;\">\n",
              "      <th></th>\n",
              "      <th>team</th>\n",
              "      <th>players_used</th>\n",
              "      <th>avg_age</th>\n",
              "      <th>possession</th>\n",
              "      <th>games</th>\n",
              "      <th>games_starts</th>\n",
              "      <th>minutes</th>\n",
              "      <th>minutes_90s</th>\n",
              "      <th>goals</th>\n",
              "      <th>assists</th>\n",
              "      <th>...</th>\n",
              "      <th>fouls</th>\n",
              "      <th>fouled</th>\n",
              "      <th>offsides</th>\n",
              "      <th>pens_won</th>\n",
              "      <th>pens_conceded</th>\n",
              "      <th>own_goals</th>\n",
              "      <th>ball_recoveries</th>\n",
              "      <th>aerials_won</th>\n",
              "      <th>aerials_lost</th>\n",
              "      <th>aerials_won_pct</th>\n",
              "    </tr>\n",
              "  </thead>\n",
              "  <tbody>\n",
              "    <tr>\n",
              "      <th>0</th>\n",
              "      <td>Argentina</td>\n",
              "      <td>24</td>\n",
              "      <td>28.4</td>\n",
              "      <td>57.4</td>\n",
              "      <td>7</td>\n",
              "      <td>77</td>\n",
              "      <td>690</td>\n",
              "      <td>7.7</td>\n",
              "      <td>15</td>\n",
              "      <td>8</td>\n",
              "      <td>...</td>\n",
              "      <td>100</td>\n",
              "      <td>115</td>\n",
              "      <td>23</td>\n",
              "      <td>5</td>\n",
              "      <td>2</td>\n",
              "      <td>1</td>\n",
              "      <td>357</td>\n",
              "      <td>83</td>\n",
              "      <td>90</td>\n",
              "      <td>48.0</td>\n",
              "    </tr>\n",
              "    <tr>\n",
              "      <th>1</th>\n",
              "      <td>Australia</td>\n",
              "      <td>20</td>\n",
              "      <td>28.7</td>\n",
              "      <td>37.8</td>\n",
              "      <td>4</td>\n",
              "      <td>44</td>\n",
              "      <td>360</td>\n",
              "      <td>4.0</td>\n",
              "      <td>3</td>\n",
              "      <td>3</td>\n",
              "      <td>...</td>\n",
              "      <td>52</td>\n",
              "      <td>34</td>\n",
              "      <td>1</td>\n",
              "      <td>0</td>\n",
              "      <td>0</td>\n",
              "      <td>0</td>\n",
              "      <td>200</td>\n",
              "      <td>72</td>\n",
              "      <td>72</td>\n",
              "      <td>50.0</td>\n",
              "    </tr>\n",
              "    <tr>\n",
              "      <th>2</th>\n",
              "      <td>Belgium</td>\n",
              "      <td>20</td>\n",
              "      <td>30.6</td>\n",
              "      <td>57.0</td>\n",
              "      <td>3</td>\n",
              "      <td>33</td>\n",
              "      <td>270</td>\n",
              "      <td>3.0</td>\n",
              "      <td>1</td>\n",
              "      <td>1</td>\n",
              "      <td>...</td>\n",
              "      <td>30</td>\n",
              "      <td>35</td>\n",
              "      <td>3</td>\n",
              "      <td>0</td>\n",
              "      <td>1</td>\n",
              "      <td>0</td>\n",
              "      <td>132</td>\n",
              "      <td>33</td>\n",
              "      <td>28</td>\n",
              "      <td>54.1</td>\n",
              "    </tr>\n",
              "    <tr>\n",
              "      <th>3</th>\n",
              "      <td>Brazil</td>\n",
              "      <td>26</td>\n",
              "      <td>28.5</td>\n",
              "      <td>56.2</td>\n",
              "      <td>5</td>\n",
              "      <td>55</td>\n",
              "      <td>480</td>\n",
              "      <td>5.3</td>\n",
              "      <td>8</td>\n",
              "      <td>6</td>\n",
              "      <td>...</td>\n",
              "      <td>63</td>\n",
              "      <td>74</td>\n",
              "      <td>8</td>\n",
              "      <td>1</td>\n",
              "      <td>0</td>\n",
              "      <td>0</td>\n",
              "      <td>271</td>\n",
              "      <td>43</td>\n",
              "      <td>56</td>\n",
              "      <td>43.4</td>\n",
              "    </tr>\n",
              "    <tr>\n",
              "      <th>4</th>\n",
              "      <td>Cameroon</td>\n",
              "      <td>22</td>\n",
              "      <td>28.0</td>\n",
              "      <td>41.7</td>\n",
              "      <td>3</td>\n",
              "      <td>33</td>\n",
              "      <td>270</td>\n",
              "      <td>3.0</td>\n",
              "      <td>4</td>\n",
              "      <td>4</td>\n",
              "      <td>...</td>\n",
              "      <td>32</td>\n",
              "      <td>38</td>\n",
              "      <td>2</td>\n",
              "      <td>0</td>\n",
              "      <td>0</td>\n",
              "      <td>0</td>\n",
              "      <td>142</td>\n",
              "      <td>42</td>\n",
              "      <td>36</td>\n",
              "      <td>53.8</td>\n",
              "    </tr>\n",
              "    <tr>\n",
              "      <th>5</th>\n",
              "      <td>Canada</td>\n",
              "      <td>19</td>\n",
              "      <td>28.2</td>\n",
              "      <td>52.0</td>\n",
              "      <td>3</td>\n",
              "      <td>33</td>\n",
              "      <td>270</td>\n",
              "      <td>3.0</td>\n",
              "      <td>1</td>\n",
              "      <td>1</td>\n",
              "      <td>...</td>\n",
              "      <td>33</td>\n",
              "      <td>37</td>\n",
              "      <td>8</td>\n",
              "      <td>0</td>\n",
              "      <td>0</td>\n",
              "      <td>0</td>\n",
              "      <td>145</td>\n",
              "      <td>30</td>\n",
              "      <td>21</td>\n",
              "      <td>58.8</td>\n",
              "    </tr>\n",
              "    <tr>\n",
              "      <th>6</th>\n",
              "      <td>Costa Rica</td>\n",
              "      <td>22</td>\n",
              "      <td>30.6</td>\n",
              "      <td>31.3</td>\n",
              "      <td>3</td>\n",
              "      <td>33</td>\n",
              "      <td>270</td>\n",
              "      <td>3.0</td>\n",
              "      <td>3</td>\n",
              "      <td>1</td>\n",
              "      <td>...</td>\n",
              "      <td>24</td>\n",
              "      <td>37</td>\n",
              "      <td>13</td>\n",
              "      <td>0</td>\n",
              "      <td>1</td>\n",
              "      <td>0</td>\n",
              "      <td>142</td>\n",
              "      <td>38</td>\n",
              "      <td>30</td>\n",
              "      <td>55.9</td>\n",
              "    </tr>\n",
              "    <tr>\n",
              "      <th>7</th>\n",
              "      <td>Croatia</td>\n",
              "      <td>21</td>\n",
              "      <td>29.2</td>\n",
              "      <td>54.3</td>\n",
              "      <td>7</td>\n",
              "      <td>77</td>\n",
              "      <td>690</td>\n",
              "      <td>7.7</td>\n",
              "      <td>8</td>\n",
              "      <td>8</td>\n",
              "      <td>...</td>\n",
              "      <td>90</td>\n",
              "      <td>90</td>\n",
              "      <td>11</td>\n",
              "      <td>0</td>\n",
              "      <td>1</td>\n",
              "      <td>0</td>\n",
              "      <td>409</td>\n",
              "      <td>87</td>\n",
              "      <td>87</td>\n",
              "      <td>50.0</td>\n",
              "    </tr>\n",
              "    <tr>\n",
              "      <th>8</th>\n",
              "      <td>Denmark</td>\n",
              "      <td>20</td>\n",
              "      <td>27.5</td>\n",
              "      <td>60.0</td>\n",
              "      <td>3</td>\n",
              "      <td>33</td>\n",
              "      <td>270</td>\n",
              "      <td>3.0</td>\n",
              "      <td>1</td>\n",
              "      <td>1</td>\n",
              "      <td>...</td>\n",
              "      <td>28</td>\n",
              "      <td>23</td>\n",
              "      <td>5</td>\n",
              "      <td>0</td>\n",
              "      <td>0</td>\n",
              "      <td>0</td>\n",
              "      <td>171</td>\n",
              "      <td>51</td>\n",
              "      <td>48</td>\n",
              "      <td>51.5</td>\n",
              "    </tr>\n",
              "    <tr>\n",
              "      <th>9</th>\n",
              "      <td>Ecuador</td>\n",
              "      <td>18</td>\n",
              "      <td>25.8</td>\n",
              "      <td>53.3</td>\n",
              "      <td>3</td>\n",
              "      <td>33</td>\n",
              "      <td>270</td>\n",
              "      <td>3.0</td>\n",
              "      <td>4</td>\n",
              "      <td>2</td>\n",
              "      <td>...</td>\n",
              "      <td>50</td>\n",
              "      <td>37</td>\n",
              "      <td>8</td>\n",
              "      <td>1</td>\n",
              "      <td>1</td>\n",
              "      <td>0</td>\n",
              "      <td>135</td>\n",
              "      <td>50</td>\n",
              "      <td>49</td>\n",
              "      <td>50.5</td>\n",
              "    </tr>\n",
              "    <tr>\n",
              "      <th>10</th>\n",
              "      <td>England</td>\n",
              "      <td>20</td>\n",
              "      <td>27.0</td>\n",
              "      <td>62.8</td>\n",
              "      <td>5</td>\n",
              "      <td>55</td>\n",
              "      <td>450</td>\n",
              "      <td>5.0</td>\n",
              "      <td>13</td>\n",
              "      <td>11</td>\n",
              "      <td>...</td>\n",
              "      <td>53</td>\n",
              "      <td>65</td>\n",
              "      <td>5</td>\n",
              "      <td>2</td>\n",
              "      <td>1</td>\n",
              "      <td>0</td>\n",
              "      <td>227</td>\n",
              "      <td>60</td>\n",
              "      <td>66</td>\n",
              "      <td>47.6</td>\n",
              "    </tr>\n",
              "    <tr>\n",
              "      <th>11</th>\n",
              "      <td>France</td>\n",
              "      <td>24</td>\n",
              "      <td>27.2</td>\n",
              "      <td>51.3</td>\n",
              "      <td>7</td>\n",
              "      <td>77</td>\n",
              "      <td>660</td>\n",
              "      <td>7.3</td>\n",
              "      <td>16</td>\n",
              "      <td>12</td>\n",
              "      <td>...</td>\n",
              "      <td>69</td>\n",
              "      <td>85</td>\n",
              "      <td>16</td>\n",
              "      <td>1</td>\n",
              "      <td>4</td>\n",
              "      <td>0</td>\n",
              "      <td>364</td>\n",
              "      <td>106</td>\n",
              "      <td>78</td>\n",
              "      <td>57.6</td>\n",
              "    </tr>\n",
              "    <tr>\n",
              "      <th>12</th>\n",
              "      <td>Germany</td>\n",
              "      <td>20</td>\n",
              "      <td>28.1</td>\n",
              "      <td>59.3</td>\n",
              "      <td>3</td>\n",
              "      <td>33</td>\n",
              "      <td>270</td>\n",
              "      <td>3.0</td>\n",
              "      <td>6</td>\n",
              "      <td>5</td>\n",
              "      <td>...</td>\n",
              "      <td>26</td>\n",
              "      <td>27</td>\n",
              "      <td>12</td>\n",
              "      <td>1</td>\n",
              "      <td>0</td>\n",
              "      <td>0</td>\n",
              "      <td>164</td>\n",
              "      <td>36</td>\n",
              "      <td>33</td>\n",
              "      <td>52.2</td>\n",
              "    </tr>\n",
              "    <tr>\n",
              "      <th>13</th>\n",
              "      <td>Ghana</td>\n",
              "      <td>20</td>\n",
              "      <td>26.4</td>\n",
              "      <td>42.0</td>\n",
              "      <td>3</td>\n",
              "      <td>33</td>\n",
              "      <td>270</td>\n",
              "      <td>3.0</td>\n",
              "      <td>5</td>\n",
              "      <td>2</td>\n",
              "      <td>...</td>\n",
              "      <td>46</td>\n",
              "      <td>38</td>\n",
              "      <td>4</td>\n",
              "      <td>1</td>\n",
              "      <td>1</td>\n",
              "      <td>0</td>\n",
              "      <td>146</td>\n",
              "      <td>36</td>\n",
              "      <td>62</td>\n",
              "      <td>36.7</td>\n",
              "    </tr>\n",
              "    <tr>\n",
              "      <th>14</th>\n",
              "      <td>Iran</td>\n",
              "      <td>21</td>\n",
              "      <td>29.3</td>\n",
              "      <td>36.7</td>\n",
              "      <td>3</td>\n",
              "      <td>33</td>\n",
              "      <td>270</td>\n",
              "      <td>3.0</td>\n",
              "      <td>4</td>\n",
              "      <td>2</td>\n",
              "      <td>...</td>\n",
              "      <td>38</td>\n",
              "      <td>26</td>\n",
              "      <td>6</td>\n",
              "      <td>1</td>\n",
              "      <td>0</td>\n",
              "      <td>0</td>\n",
              "      <td>178</td>\n",
              "      <td>43</td>\n",
              "      <td>49</td>\n",
              "      <td>46.7</td>\n",
              "    </tr>\n",
              "    <tr>\n",
              "      <th>15</th>\n",
              "      <td>Japan</td>\n",
              "      <td>22</td>\n",
              "      <td>28.8</td>\n",
              "      <td>35.8</td>\n",
              "      <td>4</td>\n",
              "      <td>44</td>\n",
              "      <td>390</td>\n",
              "      <td>4.3</td>\n",
              "      <td>5</td>\n",
              "      <td>4</td>\n",
              "      <td>...</td>\n",
              "      <td>58</td>\n",
              "      <td>36</td>\n",
              "      <td>9</td>\n",
              "      <td>0</td>\n",
              "      <td>1</td>\n",
              "      <td>0</td>\n",
              "      <td>220</td>\n",
              "      <td>59</td>\n",
              "      <td>76</td>\n",
              "      <td>43.7</td>\n",
              "    </tr>\n",
              "    <tr>\n",
              "      <th>16</th>\n",
              "      <td>Korea Republic</td>\n",
              "      <td>21</td>\n",
              "      <td>29.0</td>\n",
              "      <td>48.3</td>\n",
              "      <td>4</td>\n",
              "      <td>44</td>\n",
              "      <td>360</td>\n",
              "      <td>4.0</td>\n",
              "      <td>5</td>\n",
              "      <td>3</td>\n",
              "      <td>...</td>\n",
              "      <td>45</td>\n",
              "      <td>34</td>\n",
              "      <td>7</td>\n",
              "      <td>0</td>\n",
              "      <td>1</td>\n",
              "      <td>0</td>\n",
              "      <td>175</td>\n",
              "      <td>72</td>\n",
              "      <td>59</td>\n",
              "      <td>55.0</td>\n",
              "    </tr>\n",
              "    <tr>\n",
              "      <th>17</th>\n",
              "      <td>Mexico</td>\n",
              "      <td>21</td>\n",
              "      <td>29.0</td>\n",
              "      <td>54.0</td>\n",
              "      <td>3</td>\n",
              "      <td>33</td>\n",
              "      <td>270</td>\n",
              "      <td>3.0</td>\n",
              "      <td>2</td>\n",
              "      <td>1</td>\n",
              "      <td>...</td>\n",
              "      <td>51</td>\n",
              "      <td>48</td>\n",
              "      <td>13</td>\n",
              "      <td>0</td>\n",
              "      <td>1</td>\n",
              "      <td>0</td>\n",
              "      <td>151</td>\n",
              "      <td>48</td>\n",
              "      <td>51</td>\n",
              "      <td>48.5</td>\n",
              "    </tr>\n",
              "    <tr>\n",
              "      <th>18</th>\n",
              "      <td>Morocco</td>\n",
              "      <td>25</td>\n",
              "      <td>27.2</td>\n",
              "      <td>39.0</td>\n",
              "      <td>7</td>\n",
              "      <td>77</td>\n",
              "      <td>660</td>\n",
              "      <td>7.3</td>\n",
              "      <td>6</td>\n",
              "      <td>4</td>\n",
              "      <td>...</td>\n",
              "      <td>96</td>\n",
              "      <td>81</td>\n",
              "      <td>19</td>\n",
              "      <td>0</td>\n",
              "      <td>0</td>\n",
              "      <td>1</td>\n",
              "      <td>369</td>\n",
              "      <td>70</td>\n",
              "      <td>85</td>\n",
              "      <td>45.2</td>\n",
              "    </tr>\n",
              "    <tr>\n",
              "      <th>19</th>\n",
              "      <td>Netherlands</td>\n",
              "      <td>21</td>\n",
              "      <td>27.6</td>\n",
              "      <td>53.0</td>\n",
              "      <td>5</td>\n",
              "      <td>55</td>\n",
              "      <td>480</td>\n",
              "      <td>5.3</td>\n",
              "      <td>10</td>\n",
              "      <td>8</td>\n",
              "      <td>...</td>\n",
              "      <td>87</td>\n",
              "      <td>50</td>\n",
              "      <td>8</td>\n",
              "      <td>0</td>\n",
              "      <td>1</td>\n",
              "      <td>0</td>\n",
              "      <td>241</td>\n",
              "      <td>79</td>\n",
              "      <td>70</td>\n",
              "      <td>53.0</td>\n",
              "    </tr>\n",
              "    <tr>\n",
              "      <th>20</th>\n",
              "      <td>Poland</td>\n",
              "      <td>21</td>\n",
              "      <td>28.7</td>\n",
              "      <td>37.3</td>\n",
              "      <td>4</td>\n",
              "      <td>44</td>\n",
              "      <td>360</td>\n",
              "      <td>4.0</td>\n",
              "      <td>3</td>\n",
              "      <td>1</td>\n",
              "      <td>...</td>\n",
              "      <td>47</td>\n",
              "      <td>47</td>\n",
              "      <td>1</td>\n",
              "      <td>1</td>\n",
              "      <td>2</td>\n",
              "      <td>0</td>\n",
              "      <td>164</td>\n",
              "      <td>51</td>\n",
              "      <td>60</td>\n",
              "      <td>45.9</td>\n",
              "    </tr>\n",
              "    <tr>\n",
              "      <th>21</th>\n",
              "      <td>Portugal</td>\n",
              "      <td>24</td>\n",
              "      <td>27.8</td>\n",
              "      <td>60.4</td>\n",
              "      <td>5</td>\n",
              "      <td>55</td>\n",
              "      <td>450</td>\n",
              "      <td>5.0</td>\n",
              "      <td>12</td>\n",
              "      <td>10</td>\n",
              "      <td>...</td>\n",
              "      <td>55</td>\n",
              "      <td>65</td>\n",
              "      <td>14</td>\n",
              "      <td>1</td>\n",
              "      <td>0</td>\n",
              "      <td>0</td>\n",
              "      <td>256</td>\n",
              "      <td>66</td>\n",
              "      <td>53</td>\n",
              "      <td>55.5</td>\n",
              "    </tr>\n",
              "    <tr>\n",
              "      <th>22</th>\n",
              "      <td>Qatar</td>\n",
              "      <td>20</td>\n",
              "      <td>29.0</td>\n",
              "      <td>43.0</td>\n",
              "      <td>3</td>\n",
              "      <td>33</td>\n",
              "      <td>270</td>\n",
              "      <td>3.0</td>\n",
              "      <td>1</td>\n",
              "      <td>1</td>\n",
              "      <td>...</td>\n",
              "      <td>31</td>\n",
              "      <td>45</td>\n",
              "      <td>7</td>\n",
              "      <td>0</td>\n",
              "      <td>1</td>\n",
              "      <td>0</td>\n",
              "      <td>138</td>\n",
              "      <td>36</td>\n",
              "      <td>38</td>\n",
              "      <td>48.6</td>\n",
              "    </tr>\n",
              "    <tr>\n",
              "      <th>23</th>\n",
              "      <td>Saudi Arabia</td>\n",
              "      <td>23</td>\n",
              "      <td>28.1</td>\n",
              "      <td>44.7</td>\n",
              "      <td>3</td>\n",
              "      <td>33</td>\n",
              "      <td>270</td>\n",
              "      <td>3.0</td>\n",
              "      <td>3</td>\n",
              "      <td>2</td>\n",
              "      <td>...</td>\n",
              "      <td>56</td>\n",
              "      <td>38</td>\n",
              "      <td>3</td>\n",
              "      <td>1</td>\n",
              "      <td>1</td>\n",
              "      <td>0</td>\n",
              "      <td>132</td>\n",
              "      <td>45</td>\n",
              "      <td>49</td>\n",
              "      <td>47.9</td>\n",
              "    </tr>\n",
              "    <tr>\n",
              "      <th>24</th>\n",
              "      <td>Senegal</td>\n",
              "      <td>20</td>\n",
              "      <td>27.7</td>\n",
              "      <td>44.8</td>\n",
              "      <td>4</td>\n",
              "      <td>44</td>\n",
              "      <td>360</td>\n",
              "      <td>4.0</td>\n",
              "      <td>5</td>\n",
              "      <td>2</td>\n",
              "      <td>...</td>\n",
              "      <td>48</td>\n",
              "      <td>57</td>\n",
              "      <td>8</td>\n",
              "      <td>1</td>\n",
              "      <td>0</td>\n",
              "      <td>0</td>\n",
              "      <td>192</td>\n",
              "      <td>72</td>\n",
              "      <td>63</td>\n",
              "      <td>53.3</td>\n",
              "    </tr>\n",
              "    <tr>\n",
              "      <th>25</th>\n",
              "      <td>Serbia</td>\n",
              "      <td>22</td>\n",
              "      <td>27.4</td>\n",
              "      <td>51.3</td>\n",
              "      <td>3</td>\n",
              "      <td>33</td>\n",
              "      <td>270</td>\n",
              "      <td>3.0</td>\n",
              "      <td>5</td>\n",
              "      <td>4</td>\n",
              "      <td>...</td>\n",
              "      <td>43</td>\n",
              "      <td>28</td>\n",
              "      <td>4</td>\n",
              "      <td>0</td>\n",
              "      <td>0</td>\n",
              "      <td>0</td>\n",
              "      <td>161</td>\n",
              "      <td>43</td>\n",
              "      <td>38</td>\n",
              "      <td>53.1</td>\n",
              "    </tr>\n",
              "    <tr>\n",
              "      <th>26</th>\n",
              "      <td>Spain</td>\n",
              "      <td>21</td>\n",
              "      <td>26.4</td>\n",
              "      <td>75.8</td>\n",
              "      <td>4</td>\n",
              "      <td>44</td>\n",
              "      <td>390</td>\n",
              "      <td>4.3</td>\n",
              "      <td>9</td>\n",
              "      <td>5</td>\n",
              "      <td>...</td>\n",
              "      <td>41</td>\n",
              "      <td>46</td>\n",
              "      <td>11</td>\n",
              "      <td>1</td>\n",
              "      <td>0</td>\n",
              "      <td>0</td>\n",
              "      <td>225</td>\n",
              "      <td>41</td>\n",
              "      <td>39</td>\n",
              "      <td>51.3</td>\n",
              "    </tr>\n",
              "    <tr>\n",
              "      <th>27</th>\n",
              "      <td>Switzerland</td>\n",
              "      <td>24</td>\n",
              "      <td>28.5</td>\n",
              "      <td>49.0</td>\n",
              "      <td>4</td>\n",
              "      <td>44</td>\n",
              "      <td>360</td>\n",
              "      <td>4.0</td>\n",
              "      <td>5</td>\n",
              "      <td>4</td>\n",
              "      <td>...</td>\n",
              "      <td>53</td>\n",
              "      <td>49</td>\n",
              "      <td>6</td>\n",
              "      <td>0</td>\n",
              "      <td>0</td>\n",
              "      <td>0</td>\n",
              "      <td>190</td>\n",
              "      <td>45</td>\n",
              "      <td>49</td>\n",
              "      <td>47.9</td>\n",
              "    </tr>\n",
              "    <tr>\n",
              "      <th>28</th>\n",
              "      <td>Tunisia</td>\n",
              "      <td>21</td>\n",
              "      <td>27.7</td>\n",
              "      <td>44.3</td>\n",
              "      <td>3</td>\n",
              "      <td>33</td>\n",
              "      <td>270</td>\n",
              "      <td>3.0</td>\n",
              "      <td>1</td>\n",
              "      <td>1</td>\n",
              "      <td>...</td>\n",
              "      <td>40</td>\n",
              "      <td>28</td>\n",
              "      <td>7</td>\n",
              "      <td>0</td>\n",
              "      <td>0</td>\n",
              "      <td>0</td>\n",
              "      <td>170</td>\n",
              "      <td>48</td>\n",
              "      <td>57</td>\n",
              "      <td>45.7</td>\n",
              "    </tr>\n",
              "    <tr>\n",
              "      <th>29</th>\n",
              "      <td>United States</td>\n",
              "      <td>20</td>\n",
              "      <td>25.4</td>\n",
              "      <td>53.0</td>\n",
              "      <td>4</td>\n",
              "      <td>44</td>\n",
              "      <td>360</td>\n",
              "      <td>4.0</td>\n",
              "      <td>3</td>\n",
              "      <td>3</td>\n",
              "      <td>...</td>\n",
              "      <td>45</td>\n",
              "      <td>40</td>\n",
              "      <td>5</td>\n",
              "      <td>0</td>\n",
              "      <td>1</td>\n",
              "      <td>0</td>\n",
              "      <td>212</td>\n",
              "      <td>53</td>\n",
              "      <td>53</td>\n",
              "      <td>50.0</td>\n",
              "    </tr>\n",
              "    <tr>\n",
              "      <th>30</th>\n",
              "      <td>Uruguay</td>\n",
              "      <td>19</td>\n",
              "      <td>28.5</td>\n",
              "      <td>48.7</td>\n",
              "      <td>3</td>\n",
              "      <td>33</td>\n",
              "      <td>270</td>\n",
              "      <td>3.0</td>\n",
              "      <td>2</td>\n",
              "      <td>1</td>\n",
              "      <td>...</td>\n",
              "      <td>34</td>\n",
              "      <td>36</td>\n",
              "      <td>3</td>\n",
              "      <td>0</td>\n",
              "      <td>2</td>\n",
              "      <td>0</td>\n",
              "      <td>166</td>\n",
              "      <td>53</td>\n",
              "      <td>47</td>\n",
              "      <td>53.0</td>\n",
              "    </tr>\n",
              "    <tr>\n",
              "      <th>31</th>\n",
              "      <td>Wales</td>\n",
              "      <td>18</td>\n",
              "      <td>27.7</td>\n",
              "      <td>46.7</td>\n",
              "      <td>3</td>\n",
              "      <td>33</td>\n",
              "      <td>270</td>\n",
              "      <td>3.0</td>\n",
              "      <td>1</td>\n",
              "      <td>0</td>\n",
              "      <td>...</td>\n",
              "      <td>35</td>\n",
              "      <td>33</td>\n",
              "      <td>4</td>\n",
              "      <td>1</td>\n",
              "      <td>0</td>\n",
              "      <td>0</td>\n",
              "      <td>147</td>\n",
              "      <td>42</td>\n",
              "      <td>41</td>\n",
              "      <td>50.6</td>\n",
              "    </tr>\n",
              "  </tbody>\n",
              "</table>\n",
              "<p>32 rows × 189 columns</p>\n",
              "</div>\n",
              "    <div class=\"colab-df-buttons\">\n",
              "\n",
              "  <div class=\"colab-df-container\">\n",
              "    <button class=\"colab-df-convert\" onclick=\"convertToInteractive('df-c9053272-88c5-48cc-95b9-6b69b2be7cf2')\"\n",
              "            title=\"Convert this dataframe to an interactive table.\"\n",
              "            style=\"display:none;\">\n",
              "\n",
              "  <svg xmlns=\"http://www.w3.org/2000/svg\" height=\"24px\" viewBox=\"0 -960 960 960\">\n",
              "    <path d=\"M120-120v-720h720v720H120Zm60-500h600v-160H180v160Zm220 220h160v-160H400v160Zm0 220h160v-160H400v160ZM180-400h160v-160H180v160Zm440 0h160v-160H620v160ZM180-180h160v-160H180v160Zm440 0h160v-160H620v160Z\"/>\n",
              "  </svg>\n",
              "    </button>\n",
              "\n",
              "  <style>\n",
              "    .colab-df-container {\n",
              "      display:flex;\n",
              "      gap: 12px;\n",
              "    }\n",
              "\n",
              "    .colab-df-convert {\n",
              "      background-color: #E8F0FE;\n",
              "      border: none;\n",
              "      border-radius: 50%;\n",
              "      cursor: pointer;\n",
              "      display: none;\n",
              "      fill: #1967D2;\n",
              "      height: 32px;\n",
              "      padding: 0 0 0 0;\n",
              "      width: 32px;\n",
              "    }\n",
              "\n",
              "    .colab-df-convert:hover {\n",
              "      background-color: #E2EBFA;\n",
              "      box-shadow: 0px 1px 2px rgba(60, 64, 67, 0.3), 0px 1px 3px 1px rgba(60, 64, 67, 0.15);\n",
              "      fill: #174EA6;\n",
              "    }\n",
              "\n",
              "    .colab-df-buttons div {\n",
              "      margin-bottom: 4px;\n",
              "    }\n",
              "\n",
              "    [theme=dark] .colab-df-convert {\n",
              "      background-color: #3B4455;\n",
              "      fill: #D2E3FC;\n",
              "    }\n",
              "\n",
              "    [theme=dark] .colab-df-convert:hover {\n",
              "      background-color: #434B5C;\n",
              "      box-shadow: 0px 1px 3px 1px rgba(0, 0, 0, 0.15);\n",
              "      filter: drop-shadow(0px 1px 2px rgba(0, 0, 0, 0.3));\n",
              "      fill: #FFFFFF;\n",
              "    }\n",
              "  </style>\n",
              "\n",
              "    <script>\n",
              "      const buttonEl =\n",
              "        document.querySelector('#df-c9053272-88c5-48cc-95b9-6b69b2be7cf2 button.colab-df-convert');\n",
              "      buttonEl.style.display =\n",
              "        google.colab.kernel.accessAllowed ? 'block' : 'none';\n",
              "\n",
              "      async function convertToInteractive(key) {\n",
              "        const element = document.querySelector('#df-c9053272-88c5-48cc-95b9-6b69b2be7cf2');\n",
              "        const dataTable =\n",
              "          await google.colab.kernel.invokeFunction('convertToInteractive',\n",
              "                                                    [key], {});\n",
              "        if (!dataTable) return;\n",
              "\n",
              "        const docLinkHtml = 'Like what you see? Visit the ' +\n",
              "          '<a target=\"_blank\" href=https://colab.research.google.com/notebooks/data_table.ipynb>data table notebook</a>'\n",
              "          + ' to learn more about interactive tables.';\n",
              "        element.innerHTML = '';\n",
              "        dataTable['output_type'] = 'display_data';\n",
              "        await google.colab.output.renderOutput(dataTable, element);\n",
              "        const docLink = document.createElement('div');\n",
              "        docLink.innerHTML = docLinkHtml;\n",
              "        element.appendChild(docLink);\n",
              "      }\n",
              "    </script>\n",
              "  </div>\n",
              "\n",
              "\n",
              "<div id=\"df-7eb43473-05f6-4863-ba6f-749a5a9775a5\">\n",
              "  <button class=\"colab-df-quickchart\" onclick=\"quickchart('df-7eb43473-05f6-4863-ba6f-749a5a9775a5')\"\n",
              "            title=\"Suggest charts.\"\n",
              "            style=\"display:none;\">\n",
              "\n",
              "<svg xmlns=\"http://www.w3.org/2000/svg\" height=\"24px\"viewBox=\"0 0 24 24\"\n",
              "     width=\"24px\">\n",
              "    <g>\n",
              "        <path d=\"M19 3H5c-1.1 0-2 .9-2 2v14c0 1.1.9 2 2 2h14c1.1 0 2-.9 2-2V5c0-1.1-.9-2-2-2zM9 17H7v-7h2v7zm4 0h-2V7h2v10zm4 0h-2v-4h2v4z\"/>\n",
              "    </g>\n",
              "</svg>\n",
              "  </button>\n",
              "\n",
              "<style>\n",
              "  .colab-df-quickchart {\n",
              "      --bg-color: #E8F0FE;\n",
              "      --fill-color: #1967D2;\n",
              "      --hover-bg-color: #E2EBFA;\n",
              "      --hover-fill-color: #174EA6;\n",
              "      --disabled-fill-color: #AAA;\n",
              "      --disabled-bg-color: #DDD;\n",
              "  }\n",
              "\n",
              "  [theme=dark] .colab-df-quickchart {\n",
              "      --bg-color: #3B4455;\n",
              "      --fill-color: #D2E3FC;\n",
              "      --hover-bg-color: #434B5C;\n",
              "      --hover-fill-color: #FFFFFF;\n",
              "      --disabled-bg-color: #3B4455;\n",
              "      --disabled-fill-color: #666;\n",
              "  }\n",
              "\n",
              "  .colab-df-quickchart {\n",
              "    background-color: var(--bg-color);\n",
              "    border: none;\n",
              "    border-radius: 50%;\n",
              "    cursor: pointer;\n",
              "    display: none;\n",
              "    fill: var(--fill-color);\n",
              "    height: 32px;\n",
              "    padding: 0;\n",
              "    width: 32px;\n",
              "  }\n",
              "\n",
              "  .colab-df-quickchart:hover {\n",
              "    background-color: var(--hover-bg-color);\n",
              "    box-shadow: 0 1px 2px rgba(60, 64, 67, 0.3), 0 1px 3px 1px rgba(60, 64, 67, 0.15);\n",
              "    fill: var(--button-hover-fill-color);\n",
              "  }\n",
              "\n",
              "  .colab-df-quickchart-complete:disabled,\n",
              "  .colab-df-quickchart-complete:disabled:hover {\n",
              "    background-color: var(--disabled-bg-color);\n",
              "    fill: var(--disabled-fill-color);\n",
              "    box-shadow: none;\n",
              "  }\n",
              "\n",
              "  .colab-df-spinner {\n",
              "    border: 2px solid var(--fill-color);\n",
              "    border-color: transparent;\n",
              "    border-bottom-color: var(--fill-color);\n",
              "    animation:\n",
              "      spin 1s steps(1) infinite;\n",
              "  }\n",
              "\n",
              "  @keyframes spin {\n",
              "    0% {\n",
              "      border-color: transparent;\n",
              "      border-bottom-color: var(--fill-color);\n",
              "      border-left-color: var(--fill-color);\n",
              "    }\n",
              "    20% {\n",
              "      border-color: transparent;\n",
              "      border-left-color: var(--fill-color);\n",
              "      border-top-color: var(--fill-color);\n",
              "    }\n",
              "    30% {\n",
              "      border-color: transparent;\n",
              "      border-left-color: var(--fill-color);\n",
              "      border-top-color: var(--fill-color);\n",
              "      border-right-color: var(--fill-color);\n",
              "    }\n",
              "    40% {\n",
              "      border-color: transparent;\n",
              "      border-right-color: var(--fill-color);\n",
              "      border-top-color: var(--fill-color);\n",
              "    }\n",
              "    60% {\n",
              "      border-color: transparent;\n",
              "      border-right-color: var(--fill-color);\n",
              "    }\n",
              "    80% {\n",
              "      border-color: transparent;\n",
              "      border-right-color: var(--fill-color);\n",
              "      border-bottom-color: var(--fill-color);\n",
              "    }\n",
              "    90% {\n",
              "      border-color: transparent;\n",
              "      border-bottom-color: var(--fill-color);\n",
              "    }\n",
              "  }\n",
              "</style>\n",
              "\n",
              "  <script>\n",
              "    async function quickchart(key) {\n",
              "      const quickchartButtonEl =\n",
              "        document.querySelector('#' + key + ' button');\n",
              "      quickchartButtonEl.disabled = true;  // To prevent multiple clicks.\n",
              "      quickchartButtonEl.classList.add('colab-df-spinner');\n",
              "      try {\n",
              "        const charts = await google.colab.kernel.invokeFunction(\n",
              "            'suggestCharts', [key], {});\n",
              "      } catch (error) {\n",
              "        console.error('Error during call to suggestCharts:', error);\n",
              "      }\n",
              "      quickchartButtonEl.classList.remove('colab-df-spinner');\n",
              "      quickchartButtonEl.classList.add('colab-df-quickchart-complete');\n",
              "    }\n",
              "    (() => {\n",
              "      let quickchartButtonEl =\n",
              "        document.querySelector('#df-7eb43473-05f6-4863-ba6f-749a5a9775a5 button');\n",
              "      quickchartButtonEl.style.display =\n",
              "        google.colab.kernel.accessAllowed ? 'block' : 'none';\n",
              "    })();\n",
              "  </script>\n",
              "</div>\n",
              "    </div>\n",
              "  </div>\n"
            ]
          },
          "metadata": {},
          "execution_count": 11
        }
      ]
    },
    {
      "cell_type": "code",
      "source": [
        "times.columns.to_list()"
      ],
      "metadata": {
        "colab": {
          "base_uri": "https://localhost:8080/"
        },
        "id": "E9VzyQW7_qNY",
        "outputId": "abb5d595-b36d-494d-b3ec-da706e053971"
      },
      "execution_count": null,
      "outputs": [
        {
          "output_type": "execute_result",
          "data": {
            "text/plain": [
              "['team',\n",
              " 'players_used',\n",
              " 'avg_age',\n",
              " 'possession',\n",
              " 'games',\n",
              " 'games_starts',\n",
              " 'minutes',\n",
              " 'minutes_90s',\n",
              " 'goals',\n",
              " 'assists',\n",
              " 'goals_pens',\n",
              " 'pens_made',\n",
              " 'pens_att',\n",
              " 'cards_yellow',\n",
              " 'cards_red',\n",
              " 'goals_per90',\n",
              " 'assists_per90',\n",
              " 'goals_assists_per90',\n",
              " 'goals_pens_per90',\n",
              " 'goals_assists_pens_per90',\n",
              " 'xg',\n",
              " 'npxg',\n",
              " 'xg_assist',\n",
              " 'npxg_xg_assist',\n",
              " 'xg_per90',\n",
              " 'xg_assist_per90',\n",
              " 'xg_xg_assist_per90',\n",
              " 'npxg_per90',\n",
              " 'npxg_xg_assist_per90',\n",
              " 'gk_games',\n",
              " 'gk_games_starts',\n",
              " 'gk_minutes',\n",
              " 'gk_goals_against',\n",
              " 'gk_goals_against_per90',\n",
              " 'gk_shots_on_target_against',\n",
              " 'gk_saves',\n",
              " 'gk_save_pct',\n",
              " 'gk_wins',\n",
              " 'gk_ties',\n",
              " 'gk_losses',\n",
              " 'gk_clean_sheets',\n",
              " 'gk_clean_sheets_pct',\n",
              " 'gk_pens_att',\n",
              " 'gk_pens_allowed',\n",
              " 'gk_pens_saved',\n",
              " 'gk_pens_missed',\n",
              " 'gk_pens_save_pct',\n",
              " 'gk_free_kick_goals_against',\n",
              " 'gk_corner_kick_goals_against',\n",
              " 'gk_own_goals_against',\n",
              " 'gk_psxg',\n",
              " 'gk_psnpxg_per_shot_on_target_against',\n",
              " 'gk_psxg_net',\n",
              " 'gk_psxg_net_per90',\n",
              " 'gk_passes_completed_launched',\n",
              " 'gk_passes_launched',\n",
              " 'gk_passes_pct_launched',\n",
              " 'gk_passes',\n",
              " 'gk_passes_throws',\n",
              " 'gk_pct_passes_launched',\n",
              " 'gk_passes_length_avg',\n",
              " 'gk_goal_kicks',\n",
              " 'gk_pct_goal_kicks_launched',\n",
              " 'gk_goal_kick_length_avg',\n",
              " 'gk_crosses',\n",
              " 'gk_crosses_stopped',\n",
              " 'gk_crosses_stopped_pct',\n",
              " 'gk_def_actions_outside_pen_area',\n",
              " 'gk_def_actions_outside_pen_area_per90',\n",
              " 'gk_avg_distance_def_actions',\n",
              " 'shots',\n",
              " 'shots_on_target',\n",
              " 'shots_on_target_pct',\n",
              " 'shots_per90',\n",
              " 'shots_on_target_per90',\n",
              " 'goals_per_shot',\n",
              " 'goals_per_shot_on_target',\n",
              " 'average_shot_distance',\n",
              " 'shots_free_kicks',\n",
              " 'npxg_per_shot',\n",
              " 'xg_net',\n",
              " 'npxg_net',\n",
              " 'passes_completed',\n",
              " 'passes',\n",
              " 'passes_pct',\n",
              " 'passes_total_distance',\n",
              " 'passes_progressive_distance',\n",
              " 'passes_completed_short',\n",
              " 'passes_short',\n",
              " 'passes_pct_short',\n",
              " 'passes_completed_medium',\n",
              " 'passes_medium',\n",
              " 'passes_pct_medium',\n",
              " 'passes_completed_long',\n",
              " 'passes_long',\n",
              " 'passes_pct_long',\n",
              " 'pass_xa',\n",
              " 'xg_assist_net',\n",
              " 'assisted_shots',\n",
              " 'passes_into_final_third',\n",
              " 'passes_into_penalty_area',\n",
              " 'crosses_into_penalty_area',\n",
              " 'progressive_passes',\n",
              " 'passes_live',\n",
              " 'passes_dead',\n",
              " 'passes_free_kicks',\n",
              " 'through_balls',\n",
              " 'passes_switches',\n",
              " 'crosses',\n",
              " 'throw_ins',\n",
              " 'corner_kicks',\n",
              " 'corner_kicks_in',\n",
              " 'corner_kicks_out',\n",
              " 'corner_kicks_straight',\n",
              " 'passes_offsides',\n",
              " 'passes_blocked',\n",
              " 'sca',\n",
              " 'sca_per90',\n",
              " 'sca_passes_live',\n",
              " 'sca_passes_dead',\n",
              " 'sca_dribbles',\n",
              " 'sca_shots',\n",
              " 'sca_fouled',\n",
              " 'sca_defense',\n",
              " 'gca',\n",
              " 'gca_per90',\n",
              " 'gca_passes_live',\n",
              " 'gca_passes_dead',\n",
              " 'gca_dribbles',\n",
              " 'gca_shots',\n",
              " 'gca_fouled',\n",
              " 'gca_defense',\n",
              " 'tackles',\n",
              " 'tackles_won',\n",
              " 'tackles_def_3rd',\n",
              " 'tackles_mid_3rd',\n",
              " 'tackles_att_3rd',\n",
              " 'dribble_tackles',\n",
              " 'dribbles_vs',\n",
              " 'dribble_tackles_pct',\n",
              " 'dribbled_past',\n",
              " 'blocks',\n",
              " 'blocked_shots',\n",
              " 'blocked_passes',\n",
              " 'interceptions',\n",
              " 'tackles_interceptions',\n",
              " 'clearances',\n",
              " 'errors',\n",
              " 'touches',\n",
              " 'touches_def_pen_area',\n",
              " 'touches_def_3rd',\n",
              " 'touches_mid_3rd',\n",
              " 'touches_att_3rd',\n",
              " 'touches_att_pen_area',\n",
              " 'touches_live_ball',\n",
              " 'dribbles_completed',\n",
              " 'dribbles',\n",
              " 'dribbles_completed_pct',\n",
              " 'miscontrols',\n",
              " 'dispossessed',\n",
              " 'passes_received',\n",
              " 'progressive_passes_received',\n",
              " 'minutes_per_game',\n",
              " 'minutes_pct',\n",
              " 'minutes_per_start',\n",
              " 'games_complete',\n",
              " 'games_subs',\n",
              " 'minutes_per_sub',\n",
              " 'unused_subs',\n",
              " 'points_per_game',\n",
              " 'on_goals_for',\n",
              " 'on_goals_against',\n",
              " 'plus_minus',\n",
              " 'plus_minus_per90',\n",
              " 'on_xg_for',\n",
              " 'on_xg_against',\n",
              " 'xg_plus_minus',\n",
              " 'xg_plus_minus_per90',\n",
              " 'cards_yellow_red',\n",
              " 'fouls',\n",
              " 'fouled',\n",
              " 'offsides',\n",
              " 'pens_won',\n",
              " 'pens_conceded',\n",
              " 'own_goals',\n",
              " 'ball_recoveries',\n",
              " 'aerials_won',\n",
              " 'aerials_lost',\n",
              " 'aerials_won_pct']"
            ]
          },
          "metadata": {},
          "execution_count": 16
        }
      ]
    },
    {
      "cell_type": "code",
      "source": [
        "times.info()"
      ],
      "metadata": {
        "colab": {
          "base_uri": "https://localhost:8080/"
        },
        "id": "cNs9-biDP29z",
        "outputId": "b56f6f69-f0cd-4d9c-cab3-4d68d83c95ba"
      },
      "execution_count": null,
      "outputs": [
        {
          "output_type": "stream",
          "name": "stdout",
          "text": [
            "<class 'pandas.core.frame.DataFrame'>\n",
            "RangeIndex: 32 entries, 0 to 31\n",
            "Columns: 190 entries, team to prob_gol_penalti\n",
            "dtypes: float64(60), int64(129), object(1)\n",
            "memory usage: 47.6+ KB\n"
          ]
        }
      ]
    },
    {
      "cell_type": "code",
      "source": [
        "gols = times['goals'].sum()\n",
        "print(gols)"
      ],
      "metadata": {
        "colab": {
          "base_uri": "https://localhost:8080/"
        },
        "id": "FWG4Dcm-LXvd",
        "outputId": "934f9192-08b0-4233-9418-0e6d5798dd05"
      },
      "execution_count": null,
      "outputs": [
        {
          "output_type": "stream",
          "name": "stdout",
          "text": [
            "170\n"
          ]
        }
      ]
    },
    {
      "cell_type": "markdown",
      "source": [
        "# Probabilidade simples"
      ],
      "metadata": {
        "id": "xOhYBefxj-eN"
      }
    },
    {
      "cell_type": "markdown",
      "source": [
        "###probabilidade de criar chance de gol a partir de um drible\n",
        "### Justifivatica: O intuito dessa probabilidade foi mostrar a importancia das jogadas individuais no futebol contemporâneo."
      ],
      "metadata": {
        "id": "ZssxG28FSQ3m"
      }
    },
    {
      "cell_type": "code",
      "source": [
        "chances_drible = times['gca_dribbles'].sum()\n",
        "prob_chance_drible = chances_drible / jogos_totais\n",
        "print('A probabilidade de criar uma chance de gol atraves de um drible é de:' + str(round(prob_chance_drible*100,2))+'%')"
      ],
      "metadata": {
        "colab": {
          "base_uri": "https://localhost:8080/"
        },
        "id": "fd0Kr96pmghk",
        "outputId": "41b55640-de16-4395-9cf7-c5f00f513cfb"
      },
      "execution_count": null,
      "outputs": [
        {
          "output_type": "stream",
          "name": "stdout",
          "text": [
            "A probabilidade de criar uma chance de gol atraves de uma defesa é de:11.72%\n"
          ]
        }
      ]
    },
    {
      "cell_type": "markdown",
      "source": [
        "###Probabilidade de criar chance de gol a partir de um chute\n",
        "### Justificativa: mostrar que no futebol de hoje em dia, a maioria dos gols estão sendo feitos em jogadas mais trabalhadas e não a partir de um chute."
      ],
      "metadata": {
        "id": "saB3w2bXSYSI"
      }
    },
    {
      "cell_type": "code",
      "source": [
        "chances_chutes = times['gca_shots'].sum()\n",
        "prob_chance_chute = chances_chutes / jogos_totais\n",
        "print('A probabilidade de criar uma chance de gol atraves de um chute é de:' + str(round(prob_chance_chute*100,2))+'%')"
      ],
      "metadata": {
        "colab": {
          "base_uri": "https://localhost:8080/"
        },
        "id": "AI9wuAAlPHH6",
        "outputId": "2d34506d-5656-4d52-f964-fca1dd209f3a"
      },
      "execution_count": null,
      "outputs": [
        {
          "output_type": "stream",
          "name": "stdout",
          "text": [
            "A probabilidade de criar uma chance de gol atraves de um chute é de:15.62%\n"
          ]
        }
      ]
    },
    {
      "cell_type": "markdown",
      "source": [
        "###qual a probabilidade de uma seleção marcar um penalti durante a copa\n",
        "###Justificativa: mostrar que o jogo de hoje em dia não possui muitas faltas e consequentemente não possui muitos penaltis."
      ],
      "metadata": {
        "id": "3b_gxR0ZShge"
      }
    },
    {
      "cell_type": "code",
      "source": [
        "penaltis_concedidos = times['pens_conceded'].sum()\n",
        "prob_marcar_penalti = penaltis_concedidos / jogos_totais\n",
        "print('A probabilidade de uma seleção marcar um penalti na copa é de:' + str(round(prob_marcar_penalti*100,2))+'%')"
      ],
      "metadata": {
        "colab": {
          "base_uri": "https://localhost:8080/"
        },
        "id": "F9KDIF88OgSw",
        "outputId": "1a6799fe-0592-4620-b639-5d84a6675367"
      },
      "execution_count": null,
      "outputs": [
        {
          "output_type": "stream",
          "name": "stdout",
          "text": [
            "A probabilidade de uma seleção marcar um penalti na copa é de:17.97%\n"
          ]
        }
      ]
    },
    {
      "cell_type": "markdown",
      "source": [
        "###media de escanteios durante um jogo\n",
        "###Justificativa: mostrar que as bolas paradas ainda estao muito presentes no futebol moderno."
      ],
      "metadata": {
        "id": "EYATKgTYSmgA"
      }
    },
    {
      "cell_type": "code",
      "source": [
        "qtd_escanteio = times['corner_kicks'].sum()\n",
        "media_escanteio = qtd_escanteio / jogos_totais\n",
        "print('A media de escanteios durante uma partida da copa é de: ' + str(round(media_escanteio,2)))"
      ],
      "metadata": {
        "colab": {
          "base_uri": "https://localhost:8080/"
        },
        "id": "L3esZ-BuND2R",
        "outputId": "df827738-f82e-41c2-d19b-7f63481e2375"
      },
      "execution_count": null,
      "outputs": [
        {
          "output_type": "stream",
          "name": "stdout",
          "text": [
            "A media de escanteios durante uma partida da copa é de: 4.46\n"
          ]
        }
      ]
    },
    {
      "cell_type": "markdown",
      "source": [
        "###media de cartoes amarelos durante uma partida\n",
        "###Justificativa: mostrar que o futebol nao possui tanto contato como antigamente. Pois, o número de cartões é muito menor do que no século passado por exemplo."
      ],
      "metadata": {
        "id": "1SvL5CPkSqTd"
      }
    },
    {
      "cell_type": "code",
      "source": [
        "qtd_amarelo = times['cards_yellow'].sum()\n",
        "media_amarelo = qtd_amarelo / jogos_totais\n",
        "print('A quantidade média de cartões amarelos em uma partida durante a copa é de: ' + str(round(media_amarelo,2)))"
      ],
      "metadata": {
        "colab": {
          "base_uri": "https://localhost:8080/"
        },
        "id": "vJ0ksOKXA9Wj",
        "outputId": "6efdd23f-fc28-4c3c-c744-04b56c1bf4f3"
      },
      "execution_count": null,
      "outputs": [
        {
          "output_type": "stream",
          "name": "stdout",
          "text": [
            "A quantidade média de cartões amarelos em uma partida durante a copa é de: 1.77\n"
          ]
        }
      ]
    },
    {
      "cell_type": "markdown",
      "source": [
        "###probabilidade de sair cartão vermelho durante uma partida\n",
        "###Justificativa: mostrar que as faltas mais perigosas não estão mais tão presentes no jogo e o futebol está sendo jogado melhor."
      ],
      "metadata": {
        "id": "dI9juwMISttM"
      }
    },
    {
      "cell_type": "code",
      "source": [
        "qtd_vermelho = times['cards_red'].sum()\n",
        "prob_sair_amarelo = qtd_vermelho / jogos_totais\n",
        "print('A probabilidade de sair um cartão vermelho em uma partida é de:' + str(round(prob_sair_amarelo*100,2))+'%')"
      ],
      "metadata": {
        "colab": {
          "base_uri": "https://localhost:8080/"
        },
        "id": "UNaHbSKJMQlk",
        "outputId": "ac8ac407-3842-42a6-a3ec-267cfb273e1a"
      },
      "execution_count": null,
      "outputs": [
        {
          "output_type": "stream",
          "name": "stdout",
          "text": [
            "A probabilidade de sair um cartão vermelho em uma partida é de:3.12%\n"
          ]
        }
      ]
    },
    {
      "cell_type": "markdown",
      "source": [
        "###qual a probabilidade de ocorrer um gol de penalti em uma partida\n",
        "###Justificativa: Apresentar a impotancia do treinamento de penalti para os times.\n"
      ],
      "metadata": {
        "id": "lY31KaALS07C"
      }
    },
    {
      "cell_type": "code",
      "source": [
        "qtd_gols_penalti = times['goals_pens_per90'].sum()\n",
        "jogos_totais = times['games'].sum()\n",
        "prob_gol_penalti = qtd_gols_penalti / jogos_totais\n",
        "print('A probabilidade de sair um gol de penalti em uma partida é: '+ str(round(prob_gol_penalti * 100,2)) + '%')"
      ],
      "metadata": {
        "colab": {
          "base_uri": "https://localhost:8080/"
        },
        "id": "wT7a0D9hNbCP",
        "outputId": "bba3cdca-7111-422d-e421-0ed4d8143f75"
      },
      "execution_count": null,
      "outputs": [
        {
          "output_type": "stream",
          "name": "stdout",
          "text": [
            "A probabilidade de sair um gol de penalti em uma partida é: 27.04%\n"
          ]
        }
      ]
    },
    {
      "cell_type": "markdown",
      "source": [
        "###Media de impedimentos durante uma partida\n",
        "###Justificativa: importante calcular para saber se os ataques estão sendo muito afetados por impedimentos ou não\n"
      ],
      "metadata": {
        "id": "qtobsoKpS5MW"
      }
    },
    {
      "cell_type": "code",
      "source": [
        "qtd_impedimentos = times['offsides'].sum()\n",
        "media_impedimento = qtd_impedimentos / jogos_totais\n",
        "print('A media de impedimentos durante uma partida na copa é de: '+ str(round(media_impedimento,2)))"
      ],
      "metadata": {
        "colab": {
          "base_uri": "https://localhost:8080/"
        },
        "id": "nvApHjwu9jtf",
        "outputId": "3bfb3213-15d9-4987-801e-d638ece6a0cf"
      },
      "execution_count": null,
      "outputs": [
        {
          "output_type": "stream",
          "name": "stdout",
          "text": [
            "A media de impedimentos durante uma partida na copa é de: 1.98\n"
          ]
        }
      ]
    },
    {
      "cell_type": "markdown",
      "source": [
        "###probabailidade de ocorrer assistencia em uma partida\n",
        "###Justificativa: mostrar a importancia do trabaho em equipe no futebol contemporaneo"
      ],
      "metadata": {
        "id": "z6p5byRKS9S5"
      }
    },
    {
      "cell_type": "code",
      "source": [
        "prob_assistencia = times['assists'].sum()\n",
        "total_jogos = times['games'].sum()\n",
        "prob_assist_partida = prob_assistencia / total_jogos\n",
        "print('A probabilidade de um jogador dar assistencia em uma partida é: '+ str(round(prob_assist_partida * 100,2)) + '%')"
      ],
      "metadata": {
        "colab": {
          "base_uri": "https://localhost:8080/"
        },
        "id": "ApSruS_XiCf-",
        "outputId": "efbd42e9-0807-4695-dafd-f243ab822f5b"
      },
      "execution_count": null,
      "outputs": [
        {
          "output_type": "stream",
          "name": "stdout",
          "text": [
            "A probabilidade de um jogador dar assistencia em uma partida é: 94.53%\n"
          ]
        }
      ]
    },
    {
      "cell_type": "markdown",
      "source": [
        "###probabilidade da servia ter ganho bolas aereas\n",
        "###Justificativa A servia é favorecida geneticamente no quesito altura(com a media de altura do time sendo igual a 1.90 metros). Por isso, pegamos os dados e mostramos a vantagem que uma seleção alta tem nas bolas aereas.\n"
      ],
      "metadata": {
        "id": "WNpA5OgQTBEM"
      }
    },
    {
      "cell_type": "code",
      "source": [
        "limite_aerials_won_pct = 50.0  #+ de 50% das bolas aereas foram ganhas\n",
        "\n",
        "qtd_servia_aerials_won = len(times[(times['team'] == 'Serbia') & (times['aerials_won_pct'] >= limite_aerials_won_pct)])\n",
        "qtd_servia_partidas = len(times[times['team'] == 'Serbia'])\n",
        "probabilidade_servia_aerials_won = qtd_servia_aerials_won / qtd_servia_partidas\n",
        "\n",
        "print('A probabilidade de a seleção da Sérvia ter ganho bolas aéreas é de: ' + str(round(probabilidade_servia_aerials_won * 100, 2)) + '%')\n"
      ],
      "metadata": {
        "colab": {
          "base_uri": "https://localhost:8080/"
        },
        "id": "fS1Y3ewpfLWR",
        "outputId": "6e1d38be-b377-4710-d6c7-595a5f5aeb3d"
      },
      "execution_count": null,
      "outputs": [
        {
          "output_type": "stream",
          "name": "stdout",
          "text": [
            "A probabilidade de a seleção da Sérvia ter ganho bolas aéreas é de: 100.0%\n"
          ]
        }
      ]
    },
    {
      "cell_type": "markdown",
      "source": [
        "###probabilidade do Japao ter ganho bolas aereas\n",
        "###Justificativa: O japão é desfavorecido geneticamente no quesito altura(com a media de altura do time sendo proxima a 1,70cm). Por isso, pegamos os dados e mostramos a desvantagem que uma seleção baixa tem nas bolas aereas.\n"
      ],
      "metadata": {
        "id": "gxuVJsHZTJOz"
      }
    },
    {
      "cell_type": "code",
      "source": [
        "limite_aerials_won_pct = 50.0\n",
        "\n",
        "qtd_servia_aerials_won = len(times[(times['team'] == 'Japan') & (times['aerials_won_pct'] >= limite_aerials_won_pct)])\n",
        "qtd_servia_partidas = len(times[times['team'] == 'Japan'])\n",
        "probabilidade_servia_aerials_won = qtd_servia_aerials_won / qtd_servia_partidas\n",
        "\n",
        "print('A probabilidade de a seleção do Japão ter ganho bolas aéreas é de: ' + str(round(probabilidade_servia_aerials_won * 100, 2)) + '%')\n"
      ],
      "metadata": {
        "colab": {
          "base_uri": "https://localhost:8080/"
        },
        "id": "3q69zvqZffFX",
        "outputId": "112d093c-63fd-4cbb-c151-afdfa872bbca"
      },
      "execution_count": null,
      "outputs": [
        {
          "output_type": "stream",
          "name": "stdout",
          "text": [
            "A probabilidade de a seleção da Sérvia ter ganho bolas aéreas é de: 0.0%\n"
          ]
        }
      ]
    },
    {
      "cell_type": "markdown",
      "source": [
        "###probabilidade de uma selecao ter uma partida sem assitencia\n",
        "####Justificativa: mostrar que o jogo em equipe esta sendo cada vez mais eficiente no futebol\n"
      ],
      "metadata": {
        "id": "V7fk2Bv7TPYC"
      }
    },
    {
      "cell_type": "code",
      "source": [
        "prob_sem_assistencia = len(times[times['assists'] == 0]) / jogos_totais\n",
        "print(f\"A probabilidade de uma selecão não dar uma assistência em uma partida é de {prob_sem_assistencia:.2%}\")"
      ],
      "metadata": {
        "colab": {
          "base_uri": "https://localhost:8080/"
        },
        "id": "PResL2x1lYmv",
        "outputId": "8c6f2238-8783-4cfb-c9cd-701bba205daa"
      },
      "execution_count": null,
      "outputs": [
        {
          "output_type": "stream",
          "name": "stdout",
          "text": [
            "A probabilidade de uma selecão não dar uma assistência em uma partida é de 0.78%\n"
          ]
        }
      ]
    },
    {
      "cell_type": "markdown",
      "source": [
        "###media de gols por selecoes\n",
        "###Justificativa: Demostrar que a quantidade de gols por jogo tem diminuido e o futebol tem ficado cada vez mais disputado.\n",
        "\n"
      ],
      "metadata": {
        "id": "6QZGPnqrT1Zn"
      }
    },
    {
      "cell_type": "code",
      "source": [
        "times['prob_marcar_gol'] = times['goals'] / times['games']\n",
        "print(times['prob_marcar_gol'])"
      ],
      "metadata": {
        "colab": {
          "base_uri": "https://localhost:8080/"
        },
        "id": "YJ7NrKNaC0F-",
        "outputId": "b125ca16-d4d9-4506-9d90-cd36c0e19244"
      },
      "execution_count": null,
      "outputs": [
        {
          "output_type": "stream",
          "name": "stdout",
          "text": [
            "0     2.142857\n",
            "1     0.750000\n",
            "2     0.333333\n",
            "3     1.600000\n",
            "4     1.333333\n",
            "5     0.333333\n",
            "6     1.000000\n",
            "7     1.142857\n",
            "8     0.333333\n",
            "9     1.333333\n",
            "10    2.600000\n",
            "11    2.285714\n",
            "12    2.000000\n",
            "13    1.666667\n",
            "14    1.333333\n",
            "15    1.250000\n",
            "16    1.250000\n",
            "17    0.666667\n",
            "18    0.857143\n",
            "19    2.000000\n",
            "20    0.750000\n",
            "21    2.400000\n",
            "22    0.333333\n",
            "23    1.000000\n",
            "24    1.250000\n",
            "25    1.666667\n",
            "26    2.250000\n",
            "27    1.250000\n",
            "28    0.333333\n",
            "29    0.750000\n",
            "30    0.666667\n",
            "31    0.333333\n",
            "Name: prob_marcar_gol, dtype: float64\n"
          ]
        }
      ]
    },
    {
      "cell_type": "markdown",
      "source": [
        "### Media de faltas durante um jogo\n",
        "###Justificativa: Importante para calcular se o andamento das partidas está sendo atrapelhado pela quantidade de faltas"
      ],
      "metadata": {
        "id": "dU93PcRPT-Fz"
      }
    },
    {
      "cell_type": "code",
      "source": [
        "qtd_faltas = times['fouls'].sum()\n",
        "\n",
        "media_falta_partida = qtd_faltas / jogos_totais\n",
        "\n",
        "print('A media de faltas durante uma partida é de: ' + str(round(media_falta_partida, 2)))"
      ],
      "metadata": {
        "colab": {
          "base_uri": "https://localhost:8080/"
        },
        "id": "rCtU2kOF-Se2",
        "outputId": "d712d435-1111-4a80-edb7-43985a824503"
      },
      "execution_count": null,
      "outputs": [
        {
          "output_type": "stream",
          "name": "stdout",
          "text": [
            "A media de faltas durante uma partida é de: 12.49\n"
          ]
        }
      ]
    },
    {
      "cell_type": "markdown",
      "source": [
        "### Qual a probabilidade de selecionar um time e a media de idade dele ser maior que 27?  \n",
        "### Justificativa: importante calcular para saber se essa geração tende a uma mistura de jogadores jovens e experientes"
      ],
      "metadata": {
        "id": "VJ_NKk8rkTIz"
      }
    },
    {
      "cell_type": "markdown",
      "source": [],
      "metadata": {
        "id": "WHokEhmfkpaE"
      }
    },
    {
      "cell_type": "code",
      "source": [
        "times_com_idade_superior = len(times[times['avg_age'] >= 27.0])\n",
        "\n",
        "probTIS = times_com_idade_superior / len(times)\n",
        "\n",
        "print('A probabilidade da média etária ser igual ou superior a 27 é igual a: ' + str(round(probTIS * 100, 2)) + '%')"
      ],
      "metadata": {
        "colab": {
          "base_uri": "https://localhost:8080/"
        },
        "id": "ydhLUYH6ktqJ",
        "outputId": "36b33434-6e20-4f56-d998-166516a99c62"
      },
      "execution_count": null,
      "outputs": [
        {
          "output_type": "stream",
          "name": "stdout",
          "text": [
            "A probabilidade da média etária ser igual ou superior a 27 é igual a: 87.5%\n"
          ]
        }
      ]
    },
    {
      "cell_type": "markdown",
      "source": [
        "### Qual a probabilidade de selecionar um time e a media de idade dele ser maior que 25?\n",
        "### Justificativa: importante calcular para saber se essa geração tende aos jogadores jovens."
      ],
      "metadata": {
        "id": "un9TJQvniStX"
      }
    },
    {
      "cell_type": "code",
      "source": [
        "times_com_idade_jovem = len(times[times['avg_age'] <= 25.0])\n",
        "\n",
        "probTIJ = times_com_idade_jovem / len(times)\n",
        "\n",
        "print('A probabilidade da média etária ser igual ou inferior a 25 é igual a: ' + str(round(probTIJ * 100, 2)) + '%')"
      ],
      "metadata": {
        "colab": {
          "base_uri": "https://localhost:8080/"
        },
        "id": "GON0JW_shxd4",
        "outputId": "4f59f9c2-26c9-4094-bac0-fed7359bc4bb"
      },
      "execution_count": null,
      "outputs": [
        {
          "output_type": "stream",
          "name": "stdout",
          "text": [
            "A probabilidade da média etária ser igual ou superior a 25 é igual a: 0.0%\n"
          ]
        }
      ]
    },
    {
      "cell_type": "markdown",
      "source": [
        "### Qual a probabilidade de selecionar um time e a media de idade dele ser maior que 30?\n",
        "### Justificativa: Importante calcular para saber se essa geração tende aos jogadores experientes."
      ],
      "metadata": {
        "id": "C2ytUeWdikDA"
      }
    },
    {
      "cell_type": "code",
      "source": [
        "times_com_idade_experiente = len(times[times['avg_age'] >= 30.0])\n",
        "\n",
        "probTIE = times_com_idade_experiente / len(times)\n",
        "\n",
        "print('A probabilidade da média etária ser igual ou superior a 30 é igual a: ' + str(round(probTIE * 100, 2)) + '%')"
      ],
      "metadata": {
        "colab": {
          "base_uri": "https://localhost:8080/"
        },
        "id": "zmCs5TD9iBcP",
        "outputId": "c7128685-2dd2-4970-b30c-9d323a08caed"
      },
      "execution_count": null,
      "outputs": [
        {
          "output_type": "stream",
          "name": "stdout",
          "text": [
            "A probabilidade da média etária ser igual ou superior a 25 é igual a: 6.25%\n"
          ]
        }
      ]
    },
    {
      "cell_type": "markdown",
      "source": [
        "### Media de gols de penalti das 32 selecoes na totalidade de seus jogos\n",
        "### Justificativa: Mostrar que no futebol atual as selecoes estao cada vez narcando menos gols"
      ],
      "metadata": {
        "id": "LPsIcoEdOTma"
      }
    },
    {
      "cell_type": "code",
      "source": [
        "times['media_gol_penalti'] = times['goals_pens'] / times['games']\n",
        "\n",
        "print(times[['media_gol_penalti']])"
      ],
      "metadata": {
        "colab": {
          "base_uri": "https://localhost:8080/"
        },
        "id": "50h2Rm5CNiQG",
        "outputId": "b7bd30cc-d6b6-44cf-a2bc-07f381315afc"
      },
      "execution_count": null,
      "outputs": [
        {
          "output_type": "stream",
          "name": "stdout",
          "text": [
            "    prob_gol_penalti\n",
            "0           1.571429\n",
            "1           0.750000\n",
            "2           0.333333\n",
            "3           1.400000\n",
            "4           1.333333\n",
            "5           0.333333\n",
            "6           1.000000\n",
            "7           1.142857\n",
            "8           0.333333\n",
            "9           1.000000\n",
            "10          2.400000\n",
            "11          2.000000\n",
            "12          1.666667\n",
            "13          1.666667\n",
            "14          1.000000\n",
            "15          1.250000\n",
            "16          1.250000\n",
            "17          0.666667\n",
            "18          0.857143\n",
            "19          2.000000\n",
            "20          0.500000\n",
            "21          2.000000\n",
            "22          0.333333\n",
            "23          1.000000\n",
            "24          1.000000\n",
            "25          1.666667\n",
            "26          2.000000\n",
            "27          1.250000\n",
            "28          0.333333\n",
            "29          0.750000\n",
            "30          0.666667\n",
            "31          0.000000\n"
          ]
        }
      ]
    },
    {
      "cell_type": "markdown",
      "source": [
        "# Probabilidade da intersecção\n"
      ],
      "metadata": {
        "id": "r2b5SLeXmm8X"
      }
    },
    {
      "cell_type": "markdown",
      "source": [
        "### Qual a probabilidade de selecionar um time que tenha a posse de bola maior que 60% e que passou da fase de grupos? importante para calcular se houveram muitas equipes dominantes"
      ],
      "metadata": {
        "id": "vF_ZqGrempzh"
      }
    },
    {
      "cell_type": "markdown",
      "source": [
        "###Justificativa: Mostrar que, a estrategia de ficar com a bola na maior parte do tempo, nem sempre é a melhor. Mas, também destacar a importancia de um equilibrio entre posse de bola e o jogo individual"
      ],
      "metadata": {
        "id": "racWQ53BUDYl"
      }
    },
    {
      "cell_type": "code",
      "source": [
        "posse_alta = times['possession'] >= 60.0\n",
        "passaram_de_fase = times['games'] > 3.0\n",
        "\n",
        "times_posse_alta_e_passaram_de_fase = len(times[posse_alta & passaram_de_fase])\n",
        "\n",
        "probPAPFG = times_posse_alta_e_passaram_de_fase / len(times)\n",
        "\n",
        "print('A probabilidade de ter alta posse de bola e ter passado da fase de grupos é de : '+ str(round(probPAPFG * 100, 2)) + '%')"
      ],
      "metadata": {
        "colab": {
          "base_uri": "https://localhost:8080/"
        },
        "id": "FdivgtH8oAF6",
        "outputId": "fee6af7c-a56d-44a5-9f72-1fa53d623295"
      },
      "execution_count": null,
      "outputs": [
        {
          "output_type": "stream",
          "name": "stdout",
          "text": [
            "A probabilidade de ter alta posse de bola e ter passado da fase de grupos é de : 9.38%\n"
          ]
        }
      ]
    },
    {
      "cell_type": "markdown",
      "source": [
        "### Calcule a probabilidade de um jogador recuperar a bola em uma partida e realizar um passe progressivo\n",
        "###Justificativa: Expor que os jogos estão cada vez mais disputados e que está cada vez mais dificil de dominar uma partida.\n"
      ],
      "metadata": {
        "id": "KrU1ZQYGUGG2"
      }
    },
    {
      "cell_type": "code",
      "source": [
        "qtd_recuperacoes_bola = len(times[times['ball_recoveries'] > 0])\n",
        "probabilidade_recuperacoes_bola = qtd_recuperacoes_bola / jogos_totais\n",
        "\n",
        "qtd_passes_progressivos = len(times[times['progressive_passes'] > 0])\n",
        "probabilidade_passes_progressivos = qtd_passes_progressivos / jogos_totais\n",
        "\n",
        "probabilidade_intersecao = probabilidade_recuperacoes_bola * probabilidade_passes_progressivos\n",
        "\n",
        "print('A probabilidade de um jogador recuperar a bola e fazer um passe progressivo na mesma partida é de: ' + str(round(probabilidade_intersecao * 100, 2)) + '%')"
      ],
      "metadata": {
        "colab": {
          "base_uri": "https://localhost:8080/"
        },
        "id": "jG0I0iy-bokI",
        "outputId": "edf65e66-b4fa-47c8-d4b4-67843a14a8cf"
      },
      "execution_count": null,
      "outputs": [
        {
          "output_type": "stream",
          "name": "stdout",
          "text": [
            "A probabilidade de um jogador recuperar a bola e fazer um passe progressivo na mesma partida é de: 6.25%\n"
          ]
        }
      ]
    },
    {
      "cell_type": "markdown",
      "source": [
        "### Contando o número de partidas onde o jogador marcou um gol e deu uma assistência\n",
        "###Justificativa: Importante para demonstrar que na copa muitos gols saem de bolas paradas como penaltis ou faltas e que nem sempre os gols tem assistencia\n"
      ],
      "metadata": {
        "id": "AdMWlbjWUMZ3"
      }
    },
    {
      "cell_type": "code",
      "source": [
        "partidas_com_gol_e_assistencia = len(times[(times['goals'] > 0) & (times['assists'] > 0)])\n",
        "# Calculando a probabilidade\n",
        "probabilidade = partidas_com_gol_e_assistencia / jogos_totais\n",
        "\n",
        "print(f\"A probabilidade de uma selecao marcar um gol e dar uma assistência na mesma partida é de {probabilidade:.2%}\")"
      ],
      "metadata": {
        "colab": {
          "base_uri": "https://localhost:8080/"
        },
        "id": "udA97DFZhNW3",
        "outputId": "82d3dd84-0396-43fe-b461-6ff2ad010b17"
      },
      "execution_count": null,
      "outputs": [
        {
          "output_type": "stream",
          "name": "stdout",
          "text": [
            "A probabilidade de um jogador marcar um gol e dar uma assistência na mesma partida é de 24.22%\n"
          ]
        }
      ]
    },
    {
      "cell_type": "markdown",
      "source": [
        "###Probabilidade de ocorrer um penalti e um cartao vermelho no mesmo jogo\n",
        "###Justificativa: Importante para saber se os cartões vermelhos estao atrelados aos penaltis\n"
      ],
      "metadata": {
        "id": "3T2l5X_NUPUr"
      }
    },
    {
      "cell_type": "code",
      "source": [
        "partidas_com_vermelho_e_penalti = len(times[(times['cards_red']>0) & (times['pens_conceded']>0)])\n",
        "\n",
        "prob_vemelho_e_penalti = partidas_com_vermelho_e_penalti / jogos_totais\n",
        "\n",
        "print('A probabilidade de um catão vermelho e um penalti sairem na mesma partida é de: ' + str(round(prob_vemelho_e_penalti * 100, 2)) + '%')"
      ],
      "metadata": {
        "colab": {
          "base_uri": "https://localhost:8080/"
        },
        "id": "46ywRa5Co8ke",
        "outputId": "0edf49d9-4d33-4350-82c0-801447a00535"
      },
      "execution_count": null,
      "outputs": [
        {
          "output_type": "stream",
          "name": "stdout",
          "text": [
            "A probabilidade de um catão vermelho e um penalti sairem na mesma partida é de: 0.78%\n"
          ]
        }
      ]
    },
    {
      "cell_type": "markdown",
      "source": [
        "###Probabilidade de em uma partida chances de gol serem criadas a partir de dribles e chutes\n",
        "###Justificativa: Importante para saber se nas partidas as chances sao criadas de diversas maneiras ou se as selecoes concentram em algum tipo espefico de jogada\n",
        "\n"
      ],
      "metadata": {
        "id": "rBpLCAL8UUBS"
      }
    },
    {
      "cell_type": "code",
      "source": [
        "partidas_chance_dribles_e_chutes = len(times[(times['gca_dribbles']>0) & (times['gca_shots']>0)])\n",
        "\n",
        "prob_chance_drible_e_chute = partidas_chance_dribles_e_chutes / jogos_totais\n",
        "\n",
        "print('A probabilidade de uma chance de gol ser criada a partir de um drible ou chute na mesma partida é de: ' + str(round(prob_chance_drible_e_chute * 100, 2)) + '%')"
      ],
      "metadata": {
        "colab": {
          "base_uri": "https://localhost:8080/"
        },
        "id": "TM8C3R7hquof",
        "outputId": "495aa62b-2330-4d8d-adcc-5e7d5b4bcad5"
      },
      "execution_count": null,
      "outputs": [
        {
          "output_type": "stream",
          "name": "stdout",
          "text": [
            "A probabilidade de uma chance de gol ser criada a partir de um drible ou chute na mesma partida é de: 3.12%\n"
          ]
        }
      ]
    },
    {
      "cell_type": "markdown",
      "source": [
        "# Probabilidade de complemento"
      ],
      "metadata": {
        "id": "FipOAcyuscWd"
      }
    },
    {
      "cell_type": "markdown",
      "source": [
        "###probabilidade de um goleiro nao manter um jogo sem sofrer gols\n",
        "###Justificativa: expor a importancia dos goleiros no futebol atual. Pois, antigamente as equipes sofriam muitos gols. isso mostra uma evolucao no futebol em geral, mas aqui, queremos destacar a importancia dos goleiros.\n",
        "\n"
      ],
      "metadata": {
        "id": "DSY68749UqHY"
      }
    },
    {
      "cell_type": "code",
      "source": [
        "qtd_clean_sheets = len(times[times['gk_clean_sheets'] > 0])\n",
        "qtd_jogos = len(times)\n",
        "probabilidade_clean_sheets = qtd_clean_sheets / qtd_jogos\n",
        "\n",
        "probabilidade_nao_clean_sheets = 1 - probabilidade_clean_sheets\n",
        "\n",
        "print('A probabilidade de um goleiro não manter um jogo sem sofrer gols é de: ' + str(round(probabilidade_nao_clean_sheets * 100, 2)) + '%')\n"
      ],
      "metadata": {
        "colab": {
          "base_uri": "https://localhost:8080/"
        },
        "id": "SiCVp-vgYgWq",
        "outputId": "bbbb0545-b71d-487c-ab71-61eb17783408"
      },
      "execution_count": null,
      "outputs": [
        {
          "output_type": "stream",
          "name": "stdout",
          "text": [
            "A probabilidade de um goleiro não manter um jogo sem sofrer gols é de: 28.12%\n"
          ]
        }
      ]
    },
    {
      "cell_type": "markdown",
      "source": [
        "###probabilidade de um goleiro defender um pênalti\n",
        "###Justificativa:  mostrar que o treinamento de penaltis é muito importante. Pois, os penaltis estao muito presente nos jogos e ajudam os times a ganharem mais partidas.\n"
      ],
      "metadata": {
        "id": "KnE5gj5fUthh"
      }
    },
    {
      "cell_type": "code",
      "source": [
        "qtd_pens_defendidos = len(times[times['gk_pens_saved'] > 0])\n",
        "qtd_pens_cobrados = len(times[times['gk_pens_att'] > 0])\n",
        "probabilidade_pens_defendidos = qtd_pens_defendidos / qtd_pens_cobrados\n",
        "\n",
        "probabilidade_nao_pens_defendidos = 1 - probabilidade_pens_defendidos\n",
        "\n",
        "print('A probabilidade de um goleiro não defender um pênalti é de: ' + str(round(probabilidade_nao_pens_defendidos * 100, 2)) + '%')\n"
      ],
      "metadata": {
        "colab": {
          "base_uri": "https://localhost:8080/"
        },
        "id": "xrJKn-KFavhc",
        "outputId": "9217f949-e60c-4383-e536-828aac2cf42b"
      },
      "execution_count": null,
      "outputs": [
        {
          "output_type": "stream",
          "name": "stdout",
          "text": [
            "A probabilidade de um goleiro não defender um pênalti é de: 76.47%\n"
          ]
        }
      ]
    },
    {
      "cell_type": "markdown",
      "source": [
        "### Qual a probabilidade de um time que teve mais de 60% de posse nao ter passado para a fase de grupos? importante calcular para saber a efetividade do dominio de bola"
      ],
      "metadata": {
        "id": "PlMaXWLFsfZD"
      }
    },
    {
      "cell_type": "markdown",
      "source": [
        "###Justificativa: mostrar que os times que deixam o seu adversario dominar o jogo, normalmente não vão longe e acabam saindo na fase de grupos.\n"
      ],
      "metadata": {
        "id": "0n-50j-QUw8_"
      }
    },
    {
      "cell_type": "code",
      "source": [
        "posse_alta = times['possession'] >= 60.0\n",
        "nao_passaram_de_fase = times['games'] <= 3.0\n",
        "\n",
        "times_filtrados = times[posse_alta & nao_passaram_de_fase]\n",
        "\n",
        "total_times_posse_alta = len(times[posse_alta])\n",
        "probAltaPosseNaoPassou = len(times_filtrados) / total_times_posse_alta\n",
        "\n",
        "print('A probabilidade de ter alta posse de bola e não ter passado da fase de grupos é de : ' + str(round(probAltaPosseNaoPassou * 100, 2)) + '%')"
      ],
      "metadata": {
        "colab": {
          "base_uri": "https://localhost:8080/"
        },
        "id": "8YcjgJDMs0in",
        "outputId": "77a9406d-60cd-4919-c639-d815b3a551b2"
      },
      "execution_count": null,
      "outputs": [
        {
          "output_type": "stream",
          "name": "stdout",
          "text": [
            "A probabilidade de ter alta posse de bola e não ter passado da fase de grupos é de : 25.0%\n"
          ]
        }
      ]
    },
    {
      "cell_type": "markdown",
      "source": [
        "###probabilidade de uma partida nao ter nem cartao amarelo nem vermelho\n",
        "###Justificativa: Mostrar que no futebol as partidas estào cada vez mais faltosas e dificeis de nao se ter um cartao\n"
      ],
      "metadata": {
        "id": "3bX2U99KU-op"
      }
    },
    {
      "cell_type": "code",
      "source": [
        "prob_nao_ter_cartao = 1 - Prob_amarelo_ou_verelho\n",
        "print('A probabilidade de em uma partida nao sair um cartão amarelo ou vermelho é de: '+ str(prob_nao_ter_cartao*100) + '%')"
      ],
      "metadata": {
        "colab": {
          "base_uri": "https://localhost:8080/"
        },
        "id": "_55Pvzan4KTE",
        "outputId": "2df8dad0-e01a-4387-8549-5d894ef45fd3"
      },
      "execution_count": null,
      "outputs": [
        {
          "output_type": "stream",
          "name": "stdout",
          "text": [
            "A probabilidade de em uma partida nao sair um cartão amarelo ou vermelho é de: 75.0%\n"
          ]
        }
      ]
    },
    {
      "cell_type": "markdown",
      "source": [
        "###probabilidade de tentar um drible e nao ser bem sucedido\n",
        "###Justificativa: Importante para saber se os jogadores estao se aproveitando dos dribles que realizam ou se os defensores tem tido a vantagem\n"
      ],
      "metadata": {
        "id": "TOk7MmXZU5tz"
      }
    },
    {
      "cell_type": "code",
      "source": [
        "dribles_bem_sucedidos = times['dribbles_completed'].sum()\n",
        "dribles_totais = times['dribbles'].sum()\n",
        "prob_drible_bem_sucedido = dribles_bem_sucedidos / dribles_totais\n",
        "\n",
        "prob_dribles_falhos = 1 - prob_drible_bem_sucedido\n",
        "\n",
        "print('A probabilidade de um jogador tentar um drible e nao ser bem sucedido é de: ' + str(round(prob_dribles_falhos * 100,2)) + '%')"
      ],
      "metadata": {
        "colab": {
          "base_uri": "https://localhost:8080/"
        },
        "id": "E0eMgcgi5ziq",
        "outputId": "906e331f-fa2e-4387-d2f1-93419fedcb63"
      },
      "execution_count": null,
      "outputs": [
        {
          "output_type": "stream",
          "name": "stdout",
          "text": [
            "A probabilidade de um jogador tentar um drible e nao ser bem sucedido é de: 62.5%\n"
          ]
        }
      ]
    },
    {
      "cell_type": "markdown",
      "source": [
        "# Probabilidade da União"
      ],
      "metadata": {
        "id": "d6qFUgkEyhOg"
      }
    },
    {
      "cell_type": "markdown",
      "source": [
        "###probabilida de uma selecao marcar um gol e uma assistencia durante a copa"
      ],
      "metadata": {
        "id": "6I4_uSLlCwS0"
      }
    },
    {
      "cell_type": "markdown",
      "source": [
        "###Justificativa: Importante para mostrar que mesmo com o futebol se tornando mais defensivo os jogos ainda constumam ter ao menos um gol por partida\n",
        "\n"
      ],
      "metadata": {
        "id": "uKYjjOX-VEUr"
      }
    },
    {
      "cell_type": "code",
      "source": [
        "jogadores_com_gol_e_assistencia = len(times[(times['goals'] > 0) & (times['assists'] > 0)])\n",
        "\n",
        "# Calculando a probabilidade de um jogador marcar um gol e dar uma assistência na mesma partida\n",
        "total_jogadores = len(times)\n",
        "probabilidade = (jogadores_com_gol_e_assistencia / total_jogadores) * 100\n",
        "\n",
        "print('A probabilidade de uma selecao marcar um gol ou dar uma assistência na copa é de: ' + str(round(probabilidade, 2)) + '%')"
      ],
      "metadata": {
        "colab": {
          "base_uri": "https://localhost:8080/"
        },
        "id": "FRnmUJnWGx8O",
        "outputId": "bf4af914-b859-4ba8-dabd-032d4a34da87"
      },
      "execution_count": null,
      "outputs": [
        {
          "output_type": "stream",
          "name": "stdout",
          "text": [
            "A probabilidade de uma selecao marcar um gol ou dar uma assistência na mesma partida é de: 96.88%\n"
          ]
        }
      ]
    },
    {
      "cell_type": "markdown",
      "source": [
        "###Qual a probabilidade de em uma partida sair um cartão amarelo ou vermelho\n",
        "###Justificativa: Importante para saber se as faltas são muito agressivas ou não\n"
      ],
      "metadata": {
        "id": "eycxkZ0VVHqh"
      }
    },
    {
      "cell_type": "code",
      "source": [
        "jogadores_cartao_amarelo_ou_vermelho = len(times[(times['cards_yellow'] > 0) | (times['cards_red'] > 0)])\n",
        "Prob_amarelo_ou_verelho =  jogadores_cartao_amarelo_ou_vermelho / jogos_totais\n",
        "print('A probabilidade de em uma partida sair um cartão amarelo ou vermelho é de: '+ str(Prob_amarelo_ou_verelho*100) + '%')"
      ],
      "metadata": {
        "colab": {
          "base_uri": "https://localhost:8080/"
        },
        "id": "xMO9hLQf88gr",
        "outputId": "ce0e2bce-883f-4643-935b-7be960d6b59a"
      },
      "execution_count": null,
      "outputs": [
        {
          "output_type": "stream",
          "name": "stdout",
          "text": [
            "A probabilidade de em uma partida sair um cartão amarelo ou vermelho é de: 25.0%\n"
          ]
        }
      ]
    },
    {
      "cell_type": "markdown",
      "source": [
        "###Media de gols ou assitencias em uma partida\n",
        "###Justificativa: calculo exptremamente importante para saber se o jogo atual esta mais defensivo ou ofensivo\n"
      ],
      "metadata": {
        "id": "V-zwHPRIVKiA"
      }
    },
    {
      "cell_type": "code",
      "source": [
        "qtd_gols = times['goals'].sum()\n",
        "probabilidade_gols_por_partida = qtd_gols / jogos_totais\n",
        "\n",
        "qtd_assistencias = times['assists'].sum()\n",
        "probabilidade_assistencias_por_partida = qtd_assistencias / jogos_totais\n",
        "\n",
        "media_gol_ou_assistencia = probabilidade_gols_por_partida or probabilidade_assistencias_por_partida\n",
        "\n",
        "print('A media de gols ou assistências em uma partida é de: ' + str(round(media_gol_ou_assistencia, 2)))"
      ],
      "metadata": {
        "colab": {
          "base_uri": "https://localhost:8080/"
        },
        "id": "UYdvRdwb3pqq",
        "outputId": "620e4298-0924-4a17-9b3e-92ebeeccf90c"
      },
      "execution_count": null,
      "outputs": [
        {
          "output_type": "stream",
          "name": "stdout",
          "text": [
            "A media de gols ou assistências em uma partida é de: 1.33\n"
          ]
        }
      ]
    },
    {
      "cell_type": "markdown",
      "source": [
        "###Qual a probabilidade de uma selecao ter marcado mais de 10 ou menos que 4 gols na copa\n",
        "###Justificativa: Importante para saber se a distancia entre as melhores e as piores selecoes é alta\n"
      ],
      "metadata": {
        "id": "H0xpvMf3VOG3"
      }
    },
    {
      "cell_type": "code",
      "source": [
        "media_gols = len(times[(times['goals'] >= 10.0) | (times['goals'] <= 4.0)])\n",
        "ProbOfUnion =  media_gols / len(times)\n",
        "print('A probabilidade de uma seleção ter marcardo mais de 10 ou menos de 4 gols gols na copa é de: '+ str(ProbOfUnion*100) + '%')"
      ],
      "metadata": {
        "colab": {
          "base_uri": "https://localhost:8080/"
        },
        "id": "9Ap0s5ig77a4",
        "outputId": "913bca40-d623-41f3-9757-de344af478c2"
      },
      "execution_count": null,
      "outputs": [
        {
          "output_type": "stream",
          "name": "stdout",
          "text": [
            "A probabilidade de uma seleção ter marcardo mais de 10 ou menos de 4 gols gols na copa é de: 65.625%\n"
          ]
        }
      ]
    },
    {
      "cell_type": "markdown",
      "source": [
        "### Probabilidade de um jogar dar um passe para a área final ou de penalti em uma partida\n",
        "###Justificativa:  importante calcular para saber se os passes mesmo sendo ofensivos tem como alvo o gol ou não\n"
      ],
      "metadata": {
        "id": "ZheaCLD-VRCT"
      }
    },
    {
      "cell_type": "code",
      "source": [
        "passes_final_ou_penalti = len(times[(times['passes_into_final_third']>0) & (times['passes_into_penalty_area']>0)])\n",
        "prob_passes_final_ou_penalti = passes_final_ou_penalti/jogos_totais\n",
        "\n",
        "print('A probabilidade de um jogador dar passes para a area final ou para a area de penalti é de:' +str(round(prob_passes_final_ou_penalti*100,2))+'%')"
      ],
      "metadata": {
        "colab": {
          "base_uri": "https://localhost:8080/"
        },
        "id": "YOmiXFm2Qwxh",
        "outputId": "936268b0-2c86-41f4-c3aa-1a425769b4e8"
      },
      "execution_count": null,
      "outputs": [
        {
          "output_type": "stream",
          "name": "stdout",
          "text": [
            "A probabilidade de um jogador dar passes para a area final ou para a area de penalti é de:3.89%\n"
          ]
        }
      ]
    },
    {
      "cell_type": "markdown",
      "source": [
        "# Probabilidade da diferença"
      ],
      "metadata": {
        "id": "hV494UcdJd4L"
      }
    },
    {
      "cell_type": "markdown",
      "source": [
        "###probabilidade de ter cartão amarelo e nao ter vermelho durante uma partida"
      ],
      "metadata": {
        "id": "3DZ3vpO9VmWX"
      }
    },
    {
      "cell_type": "markdown",
      "source": [
        "###Justificativa: Essa analise foi feita para mostrar a disciplina e o comportamento dos jogadores no futebol atual. Visto que, os cartoes amarelos e vermelhos sao utilizados como ferramentas disciplinares."
      ],
      "metadata": {
        "id": "vmzeD69YDEv1"
      }
    },
    {
      "cell_type": "code",
      "source": [
        "partidas_com_amarelo_sem_vermelho = len(times[(times['cards_yellow'] > 0) & (times['cards_red'] == 0)])\n",
        "\n",
        "# Calculando a probabilidade\n",
        "probabilidade_amarelo_sem_vermelho = partidas_com_amarelo_sem_vermelho / jogos_totais\n",
        "\n",
        "# Exibindo a probabilidade em porcentagem\n",
        "print('A probabilidade de ter um cartão amarelo, mas não um cartão vermelho, durante uma partida é de: ' + str(round(probabilidade_amarelo_sem_vermelho * 100, 2)) + '%')\n"
      ],
      "metadata": {
        "colab": {
          "base_uri": "https://localhost:8080/"
        },
        "id": "mw3hEzDaucZi",
        "outputId": "7949a26e-9793-44f0-cad9-341bc62f836d"
      },
      "execution_count": null,
      "outputs": [
        {
          "output_type": "stream",
          "name": "stdout",
          "text": [
            "A probabilidade de ter um cartão amarelo, mas não um cartão vermelho, durante uma partida é de: 21.88%\n"
          ]
        }
      ]
    },
    {
      "cell_type": "markdown",
      "source": [
        "###qual a probabilidade de um jogador ter feito gol mas nâo ter dado assistencia durante a copa\n",
        "### Justificativa: Dar importancia a coletividade nas patidas. Pois, as assistências estão cada vez mais presentes no jogo.\n"
      ],
      "metadata": {
        "id": "VqEYwBaJViWI"
      }
    },
    {
      "cell_type": "code",
      "source": [
        "jogador_marca_gol = times['goals'].sum()\n",
        "prob_marca_gol_partida = jogador_marca_gol / jogos_totais\n",
        "\n",
        "jogador_dar_assistencia = times['assists'].sum()\n",
        "prob_dar_assitencia_partida = jogador_dar_assistencia / jogos_totais\n",
        "\n",
        "prob_gol_nao_assistencia = prob_marca_gol_partida - prob_dar_assitencia_partida\n",
        "print('A probabilidade de um jogador marcar um gol mas não dar uma assistencia é de:' + str(round(prob_gol_nao_assistencia*100,2))+'%')"
      ],
      "metadata": {
        "colab": {
          "base_uri": "https://localhost:8080/"
        },
        "id": "wgDiOjKI-LSj",
        "outputId": "14f6da03-839b-4325-c6b1-c7b3c265aa9a"
      },
      "execution_count": null,
      "outputs": [
        {
          "output_type": "stream",
          "name": "stdout",
          "text": [
            "A probabilidade de um jogador marcar um gol mas não dar uma assistencia é de:5.95%\n"
          ]
        }
      ]
    },
    {
      "cell_type": "markdown",
      "source": [
        "###probabilidade de calcular a quantidade de chutes para fora\n",
        "###Justificativa: demostrar que os jogos estao cada vez mais equilibrados, forçando os jogadores a finalizarem de uma distancia maior, fazendo com que a porcentagem de erro suba.\n"
      ],
      "metadata": {
        "id": "-ohEpNVtVvIq"
      }
    },
    {
      "cell_type": "code",
      "source": [
        "times['chutes_para_fora'] = times.apply(lambda row: row['shots'] - row['shots_on_target'], axis=1)\n",
        "chutes_totais = times['shots'].sum()\n",
        "qtd_total = times['chutes_para_fora'].sum()\n",
        "prob_chutes_para_fora = qtd_total / chutes_totais\n",
        "print('A probabilidade de um jogador chutar mas errar o gol é de : '+ str(round(prob_chutes_para_fora * 100, 2)) + '%')"
      ],
      "metadata": {
        "colab": {
          "base_uri": "https://localhost:8080/"
        },
        "id": "SmUvfnGkSEmE",
        "outputId": "5ab1f778-c75b-4dc9-8c2c-f6ed4b8500bd"
      },
      "execution_count": null,
      "outputs": [
        {
          "output_type": "stream",
          "name": "stdout",
          "text": [
            "A probabilidade de um jogador chutar mas errar o gol é de : 66.5%\n"
          ]
        }
      ]
    },
    {
      "cell_type": "markdown",
      "source": [
        "###Probabilidade de uma seleçao ter feito um gol e não ter levado gol na mesma partida\n",
        "### Justificativa: exibir o equilibrio entre as selecoes, demostrando um jogo mais disputado e sem muitas selecoes dominantes.\n"
      ],
      "metadata": {
        "id": "SYAX6IUAVxkP"
      }
    },
    {
      "cell_type": "code",
      "source": [
        "marcou_gol_e_nao_tomou_gol = ((times['goals'] > 0) & (times['gk_clean_sheets'] > 0)).sum()\n",
        "\n",
        "probabilidade_fez_gol_nao_levou = marcou_gol_e_nao_tomou_gol / jogos_totais\n",
        "\n",
        "if probabilidade_fez_gol_nao_levou > 1.0:\n",
        "    probabilidade_fez_gol_nao_levou = 1.0\n",
        "\n",
        "print('A probabilidade de uma seleção ter feito gol e não ter sofrido na mesma partida é de: ' + str(round(probabilidade_fez_gol_nao_levou*100, 2)) + '%')"
      ],
      "metadata": {
        "colab": {
          "base_uri": "https://localhost:8080/"
        },
        "id": "5R8R4fubAWm1",
        "outputId": "b21c8d21-e652-41dd-cf48-73827dd0b87f"
      },
      "execution_count": null,
      "outputs": [
        {
          "output_type": "stream",
          "name": "stdout",
          "text": [
            "A probabilidade de uma seleção ter feito gol e não ter sofrido na mesma partida é de: 17.97%\n"
          ]
        }
      ]
    },
    {
      "cell_type": "markdown",
      "source": [
        "###Probabilidade de ter uma chance de gol mas essa chance nao ser a partir de chutes\n",
        "###Justificativa: importante para saber de onde as chances de gol sao criadas"
      ],
      "metadata": {
        "id": "m2--_nhUV5AE"
      }
    },
    {
      "cell_type": "code",
      "source": [
        "partidas_com_gca = len(times[times['gca'] > 0])\n",
        "\n",
        "partidas_gca_sem_chute = len(times[(times['gca'] > 0) & (times['gca_shots'] == 0)])\n",
        "\n",
        "probabilidade_gca_sem_chute = partidas_gca_sem_chute / partidas_com_gca\n",
        "\n",
        "print('A probabilidade de ter uma chance de gol que não seja a partir de um chute durante uma partida é de: ' + str(round(probabilidade_gca_sem_chute * 100, 2)) + '%')"
      ],
      "metadata": {
        "colab": {
          "base_uri": "https://localhost:8080/"
        },
        "id": "dMgT37ww1xiK",
        "outputId": "a6fbd0a2-6d64-4022-938e-df8d475af724"
      },
      "execution_count": null,
      "outputs": [
        {
          "output_type": "stream",
          "name": "stdout",
          "text": [
            "A probabilidade de ter uma chance de gol que não seja a partir de um chute durante uma partida é de: 59.38%\n"
          ]
        }
      ]
    },
    {
      "cell_type": "markdown",
      "source": [
        "###Probabilidade de ter uma chance de gol mas essa chance nao ser a partir de dribles\n",
        "###Justificativa: importante para saber de onde as chances de gol sao criadas\n"
      ],
      "metadata": {
        "id": "kurqyjXHWGLL"
      }
    },
    {
      "cell_type": "code",
      "source": [
        "partidas_com_gca = len(times[times['gca'] > 0])\n",
        "\n",
        "partidas_gca_sem_dribles = len(times[(times['gca'] > 0) & (times['gca_dribbles'] == 0)])\n",
        "\n",
        "probabilidade_gca_sem_dribles = partidas_gca_sem_dribles / partidas_com_gca\n",
        "\n",
        "print('A probabilidade de ter uma chance de gol que não seja a partir de um drible durante uma partida é de: ' + str(round(probabilidade_gca_sem_dribles * 100, 2)) + '%')"
      ],
      "metadata": {
        "colab": {
          "base_uri": "https://localhost:8080/"
        },
        "id": "ceqrTBL82FX0",
        "outputId": "1e148c0b-3510-4974-c44b-cb772273e164"
      },
      "execution_count": null,
      "outputs": [
        {
          "output_type": "stream",
          "name": "stdout",
          "text": [
            "A probabilidade de ter uma chance de gol que não seja a partir de um drible durante uma partida é de: 71.88%\n"
          ]
        }
      ]
    },
    {
      "cell_type": "markdown",
      "source": [
        "# Probabilidade condicional"
      ],
      "metadata": {
        "id": "_DzAAA6xZi5v"
      }
    },
    {
      "cell_type": "markdown",
      "source": [
        "###Probabilidade de um jogador ganhar uma disputa que enfrentou\n",
        "###Justificativa: Importante para saber se os jogadores que tomam a atitude de confrontar outro estao tendo sucesso nos confrontos"
      ],
      "metadata": {
        "id": "fnj65A5IWJv6"
      }
    },
    {
      "cell_type": "code",
      "source": [
        "qtd_disputas = times['tackles'].sum()\n",
        "\n",
        "qtd_disputas_ganhas = times['tackles_won'].sum()\n",
        "\n",
        "prob_ganhar_disputa = qtd_disputas_ganhas / qtd_disputas\n",
        "print('A probabilidade de um jogador ganhar uma disputa que enfrentou é de: ' + str(round(prob_ganhar_disputa*100,2))+'%')"
      ],
      "metadata": {
        "colab": {
          "base_uri": "https://localhost:8080/"
        },
        "id": "DVq4W17KPA8_",
        "outputId": "585e0468-e32e-4ffd-dcb4-e67392ca360e"
      },
      "execution_count": null,
      "outputs": [
        {
          "output_type": "stream",
          "name": "stdout",
          "text": [
            "A probabilidade de um jogador ganhar uma disputa que enfrentou é de: 57.87%\n"
          ]
        }
      ]
    },
    {
      "cell_type": "markdown",
      "source": [
        "###Probabilidade de uma falta resultar em cartao amarelo\n",
        "###Justificativa: Importante calcular para saber a porcentagem de faltas duras durante uma partida"
      ],
      "metadata": {
        "id": "3xfAgaKqWeGn"
      }
    },
    {
      "cell_type": "code",
      "source": [
        "faltas_cometidas = times['fouls'].sum()\n",
        "\n",
        "cartoes_amarelos = times['cards_yellow'].sum()\n",
        "\n",
        "prob_cartoes_amarelos_faltas = cartoes_amarelos / faltas_cometidas\n",
        "print('A probabilidade de um jogador tomar um cartão amarelo após ter cometido uma falta é:' + str(round(prob_cartoes_amarelos_faltas * 100,2))+ '%')"
      ],
      "metadata": {
        "colab": {
          "base_uri": "https://localhost:8080/"
        },
        "id": "Ra2s39bVXa9y",
        "outputId": "c41df35a-3bfd-4acb-9608-7f3cfb688b01"
      },
      "execution_count": null,
      "outputs": [
        {
          "output_type": "stream",
          "name": "stdout",
          "text": [
            "A probabilidade de um jogador tomar um cartão amarelo após ter cometido uma falta é:14.2%\n"
          ]
        }
      ]
    },
    {
      "cell_type": "markdown",
      "source": [
        "###Dado que uma chance de gol foi criada qual a probabilidade dela se converter em gol?\n",
        "###Justificativa: Número muito importante para saber a efetividade dos ataques das selecoes\n"
      ],
      "metadata": {
        "id": "_5kDZT-vWoO4"
      }
    },
    {
      "cell_type": "code",
      "source": [
        "qtd_gols = times['goals'].sum()\n",
        "qtd_chances_gol_criadas = times['gca'].sum()\n",
        "taxa_conversao = qtd_gols / qtd_chances_gol_criadas\n",
        "\n",
        "probabilidade_gol_dada_chance_criada = taxa_conversao\n",
        "\n",
        "print('A probabilidade de um gol ser feito a partir de uma chance de gol criada é de: ' + str(round(probabilidade_gol_dada_chance_criada * 100, 2)) + '%')\n"
      ],
      "metadata": {
        "colab": {
          "base_uri": "https://localhost:8080/"
        },
        "id": "t8cqTHD3LK7y",
        "outputId": "de4dc8b9-54ac-4ce0-fb37-dac74e3ba479"
      },
      "execution_count": null,
      "outputs": [
        {
          "output_type": "stream",
          "name": "stdout",
          "text": [
            "A probabilidade de um gol ser feito a partir de uma chance de gol criada é de: 58.22%\n"
          ]
        }
      ]
    },
    {
      "cell_type": "markdown",
      "source": [
        "###coversão de chances a partir de chute em gol\n",
        "###Justificativa: Número muito importante para saber a efetividade dos chutes das selecoes"
      ],
      "metadata": {
        "id": "bKp9T0DbWr_b"
      }
    },
    {
      "cell_type": "code",
      "source": [
        "chance_gol_chute = times['gca_shots'].sum()\n",
        "taxa_conversao_chutes = chance_gol_chute / qtd_gols\n",
        "print('A probabilidade de um gol ser feito a partir de um chute é de: ' + str(round(taxa_conversao_chutes * 100, 2)) + '%')"
      ],
      "metadata": {
        "colab": {
          "base_uri": "https://localhost:8080/"
        },
        "id": "SAJWVKyrLaIM",
        "outputId": "22b09644-c709-47b4-998e-84be9fdb8894"
      },
      "execution_count": null,
      "outputs": [
        {
          "output_type": "stream",
          "name": "stdout",
          "text": [
            "A probabilidade de um gol ser feito a partir de um chute é de: 11.76%\n"
          ]
        }
      ]
    },
    {
      "cell_type": "markdown",
      "source": [
        "###coversão de chances a partir de dribles\n",
        "###Justificativa: Número muito importante para saber a efetividade dos dribles das selecoes\n"
      ],
      "metadata": {
        "id": "Ptk_ej0CWwLr"
      }
    },
    {
      "cell_type": "code",
      "source": [
        "chance_gol_drible = times['gca_dribbles'].sum()\n",
        "taxa_conversao_dribles = chance_gol_drible / qtd_gols\n",
        "print('A probabilidade de um gol ser feito a partir de um drible é de: ' + str(round(taxa_conversao_dribles * 100, 2)) + '%')"
      ],
      "metadata": {
        "colab": {
          "base_uri": "https://localhost:8080/"
        },
        "id": "BBQ5MqMiMN9S",
        "outputId": "9d70d86a-7fb7-4117-da1e-b223cede800e"
      },
      "execution_count": null,
      "outputs": [
        {
          "output_type": "stream",
          "name": "stdout",
          "text": [
            "A probabilidade de um gol ser feito a partir de um drible é de: 8.82%\n"
          ]
        }
      ]
    },
    {
      "cell_type": "markdown",
      "source": [
        "###coversão de chances a partir de faltas\n",
        "###Justificativa: Número muito importante para saber a efetividade das faltas das selecoes\n"
      ],
      "metadata": {
        "id": "osZaBaxGWy3R"
      }
    },
    {
      "cell_type": "code",
      "source": [
        "chances_gol_falta = times['gca_fouled'].sum()\n",
        "taxa_conversao_falta = chances_gol_falta / qtd_gols\n",
        "print('A probabilidade de um gol ser feito a partir de uma falta é de: ' + str(round(taxa_conversao_falta * 100, 2)) + '%')"
      ],
      "metadata": {
        "colab": {
          "base_uri": "https://localhost:8080/"
        },
        "id": "WGFVKvX9Mr4p",
        "outputId": "b27b4317-99f9-4616-cd3b-4d7b0520f7ab"
      },
      "execution_count": null,
      "outputs": [
        {
          "output_type": "stream",
          "name": "stdout",
          "text": [
            "A probabilidade de um gol ser feito a partir de uma falta é de: 15.29%\n"
          ]
        }
      ]
    },
    {
      "cell_type": "markdown",
      "source": [
        "###probabilidade de um jogador cobrar um escanteio direto ao cobrar o escanteio\n",
        "###Justificativa: Importante para saber se as selecoes preferem tentar o gol direto ou trabalhar a bola a partir de um escanteio\n"
      ],
      "metadata": {
        "id": "5MMeerBQW1RE"
      }
    },
    {
      "cell_type": "code",
      "source": [
        "qtd_escanteios_diretos_e_escanteios = len(times[(times['corner_kicks_straight'] > 0) & (times['corner_kicks'] > 0)])\n",
        "qtd_total_escanteios = len(times[times['corner_kicks'] > 0])\n",
        "probabilidade_escanteios_diretos_e_escanteios = qtd_escanteios_diretos_e_escanteios / qtd_total_escanteios\n",
        "\n",
        "qtd_escanteios = len(times[times['corner_kicks'] > 0])\n",
        "qtd_partidas = len(times)\n",
        "probabilidade_escanteios = qtd_escanteios / qtd_partidas\n",
        "\n",
        "probabilidade_condicional = probabilidade_escanteios_diretos_e_escanteios / probabilidade_escanteios\n",
        "\n",
        "print('A probabilidade de um jogador que lançou um escanteio ser um escanteio direto é de: ' + str(round(probabilidade_condicional * 100, 2)) + '%')\n"
      ],
      "metadata": {
        "colab": {
          "base_uri": "https://localhost:8080/"
        },
        "id": "dGu5OCfhaADZ",
        "outputId": "3572d72a-007f-4b83-cbd1-864da23dc18c"
      },
      "execution_count": null,
      "outputs": [
        {
          "output_type": "stream",
          "name": "stdout",
          "text": [
            "A probabilidade de um jogador que lançou um escanteio ser um escanteio direto é de: 15.62%\n"
          ]
        }
      ]
    },
    {
      "cell_type": "markdown",
      "source": [
        "###qual a probabilidade de uma selecao que ja tomou cartão amarelo também tomar o cartão vermelho\n",
        "###Justificativa: Importante para saber se os jogadores continuam \"jogando duro\" mesmo apos receberem cartão amarelo\n"
      ],
      "metadata": {
        "id": "oltbMU2gW4Zu"
      }
    },
    {
      "cell_type": "code",
      "source": [
        "total_jogadores_cartao_amarelo = len(times[times['cards_yellow'] > 0])\n",
        "jogadores_cartao_amarelo_e_vermelho = len(times[(times['cards_yellow'] > 0) & (times['cards_red'] > 0)])\n",
        "probabilidade_cartao_vermelho_dado_amarelo = jogadores_cartao_amarelo_e_vermelho / total_jogadores_cartao_amarelo\n",
        "\n",
        "print('A probabilidade de um jogador que já tomou um cartão amarelo também tomar um cartão vermelho é de: ' + str(round(probabilidade_cartao_vermelho_dado_amarelo * 100, 2)) + '%')\n"
      ],
      "metadata": {
        "colab": {
          "base_uri": "https://localhost:8080/"
        },
        "id": "CDimwt6hOyR0",
        "outputId": "deb6993c-6ea7-4298-a402-326703e1b878"
      },
      "execution_count": null,
      "outputs": [
        {
          "output_type": "stream",
          "name": "stdout",
          "text": [
            "A probabilidade de um jogador que já tomou um cartão amarelo também tomar um cartão vermelho é de: 12.5%\n"
          ]
        }
      ]
    },
    {
      "cell_type": "markdown",
      "source": [
        "# Probabilidade com teorema de bayes"
      ],
      "metadata": {
        "id": "BtAwGzWEd4hL"
      }
    },
    {
      "cell_type": "markdown",
      "source": [
        "###Taxa de conversao de chutes em gols\n",
        "###Justificativa: Importante para saber a eficacia dos chutes das selecoes\n"
      ],
      "metadata": {
        "id": "jBIJ8aTLW8L5"
      }
    },
    {
      "cell_type": "code",
      "source": [
        "qtd_total_gols = times['goals'].sum()\n",
        "qtd_total_chutes = times['shots'].sum()\n",
        "taxa_conversao_chutes_gol = qtd_total_gols / qtd_total_chutes\n",
        "print('A probabilidade de um jogador fazer um gol dado que ele chutou a bola é de: ' + str(round(taxa_conversao_chutes_gol*100,2))+'%')"
      ],
      "metadata": {
        "colab": {
          "base_uri": "https://localhost:8080/"
        },
        "id": "2VmObNfIkL6t",
        "outputId": "2a39b205-cd28-44af-da9d-1d4f4e95f35a"
      },
      "execution_count": null,
      "outputs": [
        {
          "output_type": "stream",
          "name": "stdout",
          "text": [
            "A probabilidade de um jogador fazer um gol dado que ele chutou a bola é de: 11.86%\n"
          ]
        }
      ]
    },
    {
      "cell_type": "markdown",
      "source": [],
      "metadata": {
        "id": "NnR00wlmElGH"
      }
    },
    {
      "cell_type": "markdown",
      "source": [
        "### relação entre a quantidade de chutes que um time faz em uma partida e a probabilidade de marcar um gol.\n",
        "###Justificativa: A ideia é investigar se times que têm um número significativo de chutes (neste caso, mais de 5) são mais propensos a marcar gols."
      ],
      "metadata": {
        "id": "xubSYv4O8ni9"
      }
    },
    {
      "cell_type": "code",
      "source": [
        "\n",
        "# P(Gol)\n",
        "prob_gol = len(times[times['goals'] > 0]) / len(times)\n",
        "\n",
        "# P(Mais de 5 Chutes)\n",
        "prob_mais_de_5_chutes = len(times[times['shots'] > 5]) / len(times)\n",
        "\n",
        "# P(Mais de 5 Chutes | Gol)\n",
        "prob_mais_de_5_chutes_dado_gol = len(times[(times['shots'] > 5) & (times['goals'] > 0)]) / len(times[times['goals'] > 0])\n",
        "\n",
        "# Aplicando o Teorema de Bayes\n",
        "prob_gol_dado_mais_de_5_chutes = (prob_mais_de_5_chutes_dado_gol * prob_gol) / prob_mais_de_5_chutes\n",
        "\n",
        "print('A probabilidade de um time marcar um gol dado que teve mais de 5 chutes é:', prob_gol_dado_mais_de_5_chutes)\n"
      ],
      "metadata": {
        "id": "FsTJTDXA8ehl"
      },
      "execution_count": null,
      "outputs": []
    },
    {
      "cell_type": "markdown",
      "source": [
        "### Já neste exemplo, o objetivo é investigar se existe uma relação significativa entre manter a posse de bola e vencer partidas de futebol.\n",
        "###Justificativa: A posse de bola é frequentemente associada ao controle do jogo e à criação de oportunidades de gol. Portanto, com a ajuda do teorema de bayes, podemos saber a influencia que a posse de bola tem no resultado do jogo."
      ],
      "metadata": {
        "id": "4GWmA_RO9gPi"
      }
    },
    {
      "cell_type": "code",
      "source": [
        "\n",
        "# Calculando as probabilidades necessárias\n",
        "P_A = times['win'].mean()\n",
        "P_B = (times['possession'] > 60).mean()\n",
        "P_B_A = (times[(times['win'] == 1) & (times['possession'] > 60)].shape[0]) / (times[times['win'] == 1].shape[0])\n",
        "\n",
        "# Aplicando o Teorema de Bayes\n",
        "P_A_B = (P_B_A * P_A) / P_B\n",
        "\n",
        "print(f\"A probabilidade de um time vencer, dado que teve mais de 60% de posse de bola, é de {P_A_B * 100:.2f}%\")\n"
      ],
      "metadata": {
        "id": "3dIvLONH9eST"
      },
      "execution_count": null,
      "outputs": []
    },
    {
      "cell_type": "markdown",
      "source": [
        "# Variáveis aleatorias"
      ],
      "metadata": {
        "id": "1KybUvUBW-oH"
      }
    },
    {
      "cell_type": "markdown",
      "source": [
        "#O dataset apresenta alguns números de partidas equivocados, não contem nenhuma equipe eliminada na semifinal e contem 4 equipes jogando a final, por isso não é possível criar variaveis para semifinalistas e finalistas"
      ],
      "metadata": {
        "id": "DIPrhsxRX700"
      }
    },
    {
      "cell_type": "markdown",
      "source": [
        "### Variaveis que demonstram as equipes eliminadas em cada fase da competicao"
      ],
      "metadata": {
        "id": "90LSM-hjFEt5"
      }
    },
    {
      "cell_type": "code",
      "source": [
        "times['eliminado_fase_de_grupo'] = times['games']==3\n",
        "times['eliminado_oitavas_de_final'] = times['games']==4\n",
        "times['eliminado_quartas_de_final'] = times['games']==5\n",
        "print(times['eliminado_fase_de_grupo'])\n",
        "print(times['eliminado_oitavas_de_final'])\n",
        "print(times['eliminado_quartas_de_final'])"
      ],
      "metadata": {
        "colab": {
          "base_uri": "https://localhost:8080/"
        },
        "id": "b7NX2MHkXE9n",
        "outputId": "a109162f-729c-4fa5-d001-5b9f8de7c7be"
      },
      "execution_count": null,
      "outputs": [
        {
          "output_type": "stream",
          "name": "stdout",
          "text": [
            "0     False\n",
            "1     False\n",
            "2      True\n",
            "3     False\n",
            "4      True\n",
            "5      True\n",
            "6      True\n",
            "7     False\n",
            "8      True\n",
            "9      True\n",
            "10    False\n",
            "11    False\n",
            "12     True\n",
            "13     True\n",
            "14     True\n",
            "15    False\n",
            "16    False\n",
            "17     True\n",
            "18    False\n",
            "19    False\n",
            "20    False\n",
            "21    False\n",
            "22     True\n",
            "23     True\n",
            "24    False\n",
            "25     True\n",
            "26    False\n",
            "27    False\n",
            "28     True\n",
            "29    False\n",
            "30     True\n",
            "31     True\n",
            "Name: eliminado_fase_de_grupo, dtype: bool\n",
            "0     False\n",
            "1      True\n",
            "2     False\n",
            "3     False\n",
            "4     False\n",
            "5     False\n",
            "6     False\n",
            "7     False\n",
            "8     False\n",
            "9     False\n",
            "10    False\n",
            "11    False\n",
            "12    False\n",
            "13    False\n",
            "14    False\n",
            "15     True\n",
            "16     True\n",
            "17    False\n",
            "18    False\n",
            "19    False\n",
            "20     True\n",
            "21    False\n",
            "22    False\n",
            "23    False\n",
            "24     True\n",
            "25    False\n",
            "26     True\n",
            "27     True\n",
            "28    False\n",
            "29     True\n",
            "30    False\n",
            "31    False\n",
            "Name: eliminado_oitavas_de_final, dtype: bool\n",
            "0     False\n",
            "1     False\n",
            "2     False\n",
            "3      True\n",
            "4     False\n",
            "5     False\n",
            "6     False\n",
            "7     False\n",
            "8     False\n",
            "9     False\n",
            "10     True\n",
            "11    False\n",
            "12    False\n",
            "13    False\n",
            "14    False\n",
            "15    False\n",
            "16    False\n",
            "17    False\n",
            "18    False\n",
            "19     True\n",
            "20    False\n",
            "21     True\n",
            "22    False\n",
            "23    False\n",
            "24    False\n",
            "25    False\n",
            "26    False\n",
            "27    False\n",
            "28    False\n",
            "29    False\n",
            "30    False\n",
            "31    False\n",
            "Name: eliminado_quartas_de_final, dtype: bool\n"
          ]
        }
      ]
    },
    {
      "cell_type": "markdown",
      "source": [
        "##funcao da probabilidade"
      ],
      "metadata": {
        "id": "t3DmqmjOZOOw"
      }
    },
    {
      "cell_type": "code",
      "source": [
        "fp = times['eliminado_fase_de_grupo'].value_counts(sort=False).sort_index()/times['eliminado_fase_de_grupo'].count()\n",
        "print(fp)"
      ],
      "metadata": {
        "colab": {
          "base_uri": "https://localhost:8080/"
        },
        "id": "b_j0msPBZNYk",
        "outputId": "f98fbf5f-d171-411a-bbb7-68b96d583a01"
      },
      "execution_count": null,
      "outputs": [
        {
          "output_type": "stream",
          "name": "stdout",
          "text": [
            "False    0.5\n",
            "True     0.5\n",
            "Name: eliminado_fase_de_grupo, dtype: float64\n"
          ]
        }
      ]
    },
    {
      "cell_type": "code",
      "source": [
        "fp2 = times['eliminado_oitavas_de_final'].value_counts(sort=False).sort_index()/times['eliminado_oitavas_de_final'].count()\n",
        "print(fp2)"
      ],
      "metadata": {
        "colab": {
          "base_uri": "https://localhost:8080/"
        },
        "id": "LfI7Z6qtZgOz",
        "outputId": "8e9a1052-88df-40f4-e5ac-6afe5e1d134a"
      },
      "execution_count": null,
      "outputs": [
        {
          "output_type": "stream",
          "name": "stdout",
          "text": [
            "False    0.75\n",
            "True     0.25\n",
            "Name: eliminado_oitavas_de_final, dtype: float64\n"
          ]
        }
      ]
    },
    {
      "cell_type": "code",
      "source": [
        "fp3 = times['eliminado_quartas_de_final'].value_counts(sort=False).sort_index()/times['eliminado_quartas_de_final'].count()\n",
        "print(fp3)"
      ],
      "metadata": {
        "colab": {
          "base_uri": "https://localhost:8080/"
        },
        "id": "1rFRt11OZpU4",
        "outputId": "f9c19f0a-f355-460f-e21b-a61e72a364ab"
      },
      "execution_count": null,
      "outputs": [
        {
          "output_type": "stream",
          "name": "stdout",
          "text": [
            "False    0.875\n",
            "True     0.125\n",
            "Name: eliminado_quartas_de_final, dtype: float64\n"
          ]
        }
      ]
    },
    {
      "cell_type": "markdown",
      "source": [
        "## Funcao reparticao (cumulativa)"
      ],
      "metadata": {
        "id": "Lc8zy7CEZxIQ"
      }
    },
    {
      "cell_type": "code",
      "source": [
        "fp.cumsum()\n",
        "fp2.cumsum()\n",
        "fp3.cumsum()"
      ],
      "metadata": {
        "colab": {
          "base_uri": "https://localhost:8080/"
        },
        "id": "RLs_obabZzqK",
        "outputId": "d37150ce-3a4b-4d31-c797-83815f74662b"
      },
      "execution_count": null,
      "outputs": [
        {
          "output_type": "execute_result",
          "data": {
            "text/plain": [
              "False    0.875\n",
              "True     1.000\n",
              "Name: eliminado_quartas_de_final, dtype: float64"
            ]
          },
          "metadata": {},
          "execution_count": 27
        }
      ]
    }
  ]
}